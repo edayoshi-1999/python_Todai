{
 "cells": [
  {
   "cell_type": "code",
   "execution_count": 2,
   "id": "15fa6d80-5e1b-448f-ae98-dd0173199650",
   "metadata": {},
   "outputs": [],
   "source": [
    "import pandas as pd\n"
   ]
  },
  {
   "cell_type": "code",
   "execution_count": 9,
   "id": "e8806d3c-43c0-40cf-a15f-d61be66abd9b",
   "metadata": {},
   "outputs": [
    {
     "name": "stdout",
     "output_type": "stream",
     "text": [
      "              age        Medu        Fedu  traveltime   studytime    failures  \\\n",
      "count  649.000000  649.000000  649.000000  649.000000  649.000000  649.000000   \n",
      "mean    16.744222    2.514638    2.306626    1.568567    1.930663    0.221880   \n",
      "std      1.218138    1.134552    1.099931    0.748660    0.829510    0.593235   \n",
      "min     15.000000    0.000000    0.000000    1.000000    1.000000    0.000000   \n",
      "25%     16.000000    2.000000    1.000000    1.000000    1.000000    0.000000   \n",
      "50%     17.000000    2.000000    2.000000    1.000000    2.000000    0.000000   \n",
      "75%     18.000000    4.000000    3.000000    2.000000    2.000000    0.000000   \n",
      "max     22.000000    4.000000    4.000000    4.000000    4.000000    3.000000   \n",
      "\n",
      "           famrel    freetime       goout        Dalc        Walc      health  \\\n",
      "count  649.000000  649.000000  649.000000  649.000000  649.000000  649.000000   \n",
      "mean     3.930663    3.180277    3.184900    1.502311    2.280431    3.536210   \n",
      "std      0.955717    1.051093    1.175766    0.924834    1.284380    1.446259   \n",
      "min      1.000000    1.000000    1.000000    1.000000    1.000000    1.000000   \n",
      "25%      4.000000    3.000000    2.000000    1.000000    1.000000    2.000000   \n",
      "50%      4.000000    3.000000    3.000000    1.000000    2.000000    4.000000   \n",
      "75%      5.000000    4.000000    4.000000    2.000000    3.000000    5.000000   \n",
      "max      5.000000    5.000000    5.000000    5.000000    5.000000    5.000000   \n",
      "\n",
      "         absences          G1          G2          G3  \n",
      "count  649.000000  649.000000  649.000000  649.000000  \n",
      "mean     3.659476   11.399076   11.570108   11.906009  \n",
      "std      4.640759    2.745265    2.913639    3.230656  \n",
      "min      0.000000    0.000000    0.000000    0.000000  \n",
      "25%      0.000000   10.000000   10.000000   10.000000  \n",
      "50%      2.000000   11.000000   11.000000   12.000000  \n",
      "75%      6.000000   13.000000   13.000000   14.000000  \n",
      "max     32.000000   19.000000   19.000000   19.000000  \n"
     ]
    }
   ],
   "source": [
    "student_data_por = pd.read_csv(\"chap3/student-por.csv\", sep=\";\")\n",
    "print(student_data_por.describe())\n",
    "# print(student_data_por.info())"
   ]
  },
  {
   "cell_type": "code",
   "execution_count": 7,
   "id": "cfa28671-8ba2-46c4-961c-138cf4267d31",
   "metadata": {},
   "outputs": [
    {
     "data": {
      "text/plain": [
       "'C:\\\\Users\\\\utaka\\\\OneDrive\\\\デスクトップ\\\\programing\\\\pythonTodai'"
      ]
     },
     "execution_count": 7,
     "metadata": {},
     "output_type": "execute_result"
    }
   ],
   "source": [
    "pwd"
   ]
  },
  {
   "cell_type": "code",
   "execution_count": null,
   "id": "86c25585-95d0-48dc-bacc-b017396a5b2d",
   "metadata": {},
   "outputs": [],
   "source": []
  }
 ],
 "metadata": {
  "kernelspec": {
   "display_name": "Python 3 (ipykernel)",
   "language": "python",
   "name": "python3"
  },
  "language_info": {
   "codemirror_mode": {
    "name": "ipython",
    "version": 3
   },
   "file_extension": ".py",
   "mimetype": "text/x-python",
   "name": "python",
   "nbconvert_exporter": "python",
   "pygments_lexer": "ipython3",
   "version": "3.12.4"
  }
 },
 "nbformat": 4,
 "nbformat_minor": 5
}
