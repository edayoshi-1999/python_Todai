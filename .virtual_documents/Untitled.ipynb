import matplotlib as mpl
import seaborn as sns
import matplotlib.pyplot as plt
import numpy as np


# 練習問題2-10
def my_function(x):
    return 5*x + 3
x = np.arange(-10, 10)
plt.subplot(2, 2, 1)
plt.plot(x, my_function(x))
plt.grid(True)
# 練習問題2-11
x = np.linspace(-10, 10, 100)
y = np.linspace(-10, 10, 100)
plt.subplot(2, 2, 2)
plt.plot(x, np.sin(x))
plt.plot(y, np.cos(y))
plt.grid(True)


# 練習問題2-12
def uni_hist(N):
    x = np.random.uniform(0.0, 1.0, N)
    plt.subplot(2, 1, 1)
    plt.hist(x)
    plt.title("No1")
    plt.grid(True)
    
    y = np.random.uniform(0.0, 1.0, N)
    plt.subplot(2, 1, 2)
    plt.hist(y)
    plt.title("No2")
    plt.grid(True)
    
    plt.tight_layout()

uni_hist(1000)


uni_hist(100)


uni_hist(10000)


# 2章総合問題
# モンテカルロ法：半径1の円の面積が円周率に等しい。
# 長さ1の正方形の内部の点全体に対する、円の内部の点全体の個数の割合を、円の面積と考える。
# つまり、円の内部の点の個数/合計の点の個数　が、円の面積と考えられる。割合を面積と考えているのがポイント。
# 最初は1/4の円で考えているから、4倍することで丸い円を考えたことになる。
import math
# 1
N = 10000
x = np.random.uniform(0.0, 1.0, N)
y = np.random.uniform(0.0, 1.0, N)
# 2
# math.hypot(x[0], y[0])　例。
# 円の中のxとy
inside_x = []
inside_y = []

# 円の外のxとy
outside_x = []
outside_y = []

count_inside = 0
for count in range(0, N):
    d = math.hypot(x[count], y[count])
    if d < 1:
        count_inside += 1
        inside_x.append(x[count])
        inside_y.append(y[count])
    else:
        outside_x.append(x[count])
        outside_y.append(y[count])
    
print(count_inside)

# 円を書く
circle_x = np.arange(0, 1, 0.001)
circle_y = np.sqrt(1 - circle_x * circle_x)
plt.plot(circle_x, circle_y)
plt.axis("equal")  # x, y の比率を同じにする

# 円の中がred
plt.scatter(inside_x, inside_y, color="r")
# 円の外がblue
plt.scatter(outside_x, outside_y, color="b")

plt.grid(True)

# 3
print("円周率", count_inside / N * 4)



