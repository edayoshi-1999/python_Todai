import pandas as pd
from sklearn import linear_model
import matplotlib.pyplot as plt
from pathlib import Path
import zipfile  


student_data_por = pd.read_csv("chap3/student-por.csv", sep=";")
print(student_data_por.describe())
# print(student_data_por.info())


pwd


# 練習問題3-4
reg = linear_model.LinearRegression()
X = student_data_por.loc[:, ["G1"]].values
Y = student_data_por.loc[:, ["G3"]].values
reg.fit(X, Y)
print("回帰係数", reg.coef_)
print("切片", reg.intercept_)
print("決定係数", reg.score(X, Y))
# 練習問題3-5
plt.subplot(2, 1, 1)
plt.plot(X, reg.predict(X))
plt.scatter(X, Y)
plt.xlabel("G1")
plt.ylabel("G3")
plt.grid(True)
# 練習問題3-6
reg2 = linear_model.LinearRegression()
X_2 = student_data_por.loc[:, ["absences"]].values
Y_2 = student_data_por.loc[:, ["G3"]].values
reg2.fit(X_2, Y_2)
print("回帰係数", reg2.coef_)
print("切片", reg2.intercept_)
print("決定係数", reg2.score(X_2, Y_2))
plt.subplot(2, 1, 2)
plt.plot(X_2, reg2.predict(X_2))
plt.scatter(X_2, Y_2)
plt.xlabel("absences")
plt.ylabel("G3")
plt.grid(True)


p = Path(r"chap3\wine+quality.zip")
z = zipfile.ZipFile(p)
z.extractall()


# 3章総合問題
wine = pd.read_csv("chap3/winequality-red.csv", sep=";")
print(wine.head())
print(wine.describe())



