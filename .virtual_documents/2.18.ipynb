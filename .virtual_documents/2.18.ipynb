import pandas as pd
from sklearn import linear_model
import matplotlib.pyplot as plt
from pathlib import Path
import zipfile  
import seaborn as sns


student_data_por = pd.read_csv("chap3/student-por.csv", sep=";")
print(student_data_por.describe())
# print(student_data_por.info())


pwd


# 練習問題3-4
reg = linear_model.LinearRegression()
X = student_data_por.loc[:, ["G1"]].values
Y = student_data_por.loc[:, ["G3"]].values
reg.fit(X, Y)
print("回帰係数", reg.coef_)
print("切片", reg.intercept_)
print("決定係数", reg.score(X, Y))
# 練習問題3-5
plt.subplot(2, 1, 1)
plt.plot(X, reg.predict(X))
plt.scatter(X, Y)
plt.xlabel("G1")
plt.ylabel("G3")
plt.grid(True)
# 練習問題3-6
reg2 = linear_model.LinearRegression()
X_2 = student_data_por.loc[:, ["absences"]].values
Y_2 = student_data_por.loc[:, ["G3"]].values
reg2.fit(X_2, Y_2)
print("回帰係数", reg2.coef_)
print("切片", reg2.intercept_)
print("決定係数", reg2.score(X_2, Y_2))
plt.subplot(2, 1, 2)
plt.plot(X_2, reg2.predict(X_2))
plt.scatter(X_2, Y_2)
plt.xlabel("absences")
plt.ylabel("G3")
plt.grid(True)


p = Path(r"chap3\wine+quality.zip")
z = zipfile.ZipFile(p)
z.extractall()


# 3章総合問題 3-1
wine = pd.read_csv("chap3/winequality-red.csv", sep=";")
print(wine.head())
print(wine.describe())


filename = "wine_data.csv"
wine.describe().to_csv(filename)


# 3-1つづき
sns.pairplot(wine)


# 3-2は飛ばす。


import numpy as np
import scipy as sp
import pandas as pd

np.random.seed(0)


dice_data = np.array([1, 2, 3, 4, 5, 6])
np.random.choice(dice_data, 1)


calc_steps = 1000
dice_rolls = np.random.choice(dice_data, calc_steps)
for i in range(1, 7):
    p = len(dice_rolls[dice_rolls==i]) / calc_steps
    print(i, "が出る確率", p)


# 練習問題4-1
coin_data = np.array([0, 1])
coin_rolls = np.random.choice(coin_data, calc_steps)
for i in range(0, 2):
    p = len(coin_rolls[coin_rolls==i]) / calc_steps
    print(i, "が出る確率" ,p)


# 一様分布
calc_steps = 1000
prob_data = []
dice_rolls = np.random.choice(dice_data, calc_steps)
for i in range(1, 7):
    p = len(dice_rolls[dice_rolls==i]) / calc_steps
    prob_data = np.append(prob_data, p)
    
plt.bar(dice_data, prob_data)
plt.grid(True)


# ベルヌーイ分布
prob_be_data = np.array([])
coin_data = np.array([0, 0, 0, 0, 0, 1, 1, 1])
for i in np.unique(coin_data):
    p = len(coin_data[coin_data==i]) / len(coin_data)
    print(i, "が出る確率", p)
    prob_be_data = np.append(prob_be_data, p)
plt.bar([0, 1], prob_be_data, align="center")
plt.xticks([0, 1], ["head", "tail"])
plt.grid(True)


# 二項分布
np.random.seed(0)
x = np.random.binomial(30, 0.5, 1000)
plt.hist(x)
plt.grid(True)


# ポアソン分布
x = np.random.poisson(7, 1000)
plt.hist(x)
plt.grid(True)


# 正規分布
x = np.random.normal(5, 10 ,10000)
plt.hist(x)
plt.grid(True)


x = np.random.lognormal(30, 0.4, 10000)
plt.hist(x)
plt.grid(True)


student_data_math = pd.read_csv(r"chap3\student-mat.csv", sep=";")
student_data_math.absences.plot(kind="kde", style="k--")
student_data_math.absences.hist(density=True)


# 練習問題4-4
N = 10000
normal_sample_data = [np.random.normal(0, 1, 100).mean() for _ in range(N)]
plt.hist(normal_sample_data)
plt.grid(True)



# 練習問題4-5
x = [np.random.lognormal(0, 1, 100).mean() for _ in range(N)]
plt.hist(x)
plt.grid(True)


# 練習問題4-6
student_data_math.G1.plot(kind="kde", style="k--")
student_data_math.G1.hist(density=True)


# 対数の法則
calc_times = 1000
sample_array = np.array([1, 2, 3, 4, 5, 6])
number_cnt = np.arange(1, calc_times + 1)

for i in range(4):
    p = np.random.choice(sample_array, calc_times).cumsum()
    plt.plot(p / number_cnt)
    plt.grid(True)


# 中心極限定理
def function_central_theory(N):
    sample_array = np.array([1, 2, 3, 4, 5, 6])

    mean_array = np.array([])
    for i in range(1000):
        a = np.random.choice(sample_array, N)
        mean_array = np.append(mean_array, a.mean())

    plt.hist(mean_array)
    plt.grid(True)

function_central_theory(3)


function_central_theory(6)


function_central_theory(10000)


# かい二乗分布
for df, c in zip([2, 10, 60], "bgr"):
    x = np.random.chisquare(df, 1000)
    plt.hist(x, 20, color=c)
    plt.grid(True)


# t分布
x = np.random.standard_t(5, 1000)
plt.hist(x)
plt.grid(True)


# F分布
for df, c in zip([(6, 7), (10, 10), (20, 25)], "bgr"):
    x = np.random.f(df[0], df[1], 1000)
    plt.hist(x, 100, color=c)
    plt.grid(True)



