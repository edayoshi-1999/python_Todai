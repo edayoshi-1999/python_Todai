import numpy as np
import numpy.random as random
import scipy as sp
import pandas as pd
import matplotlib.pyplot as plt


student_data_math = pd.read_csv("chap3/student-mat.csv", sep=";")
print(student_data_math.head())






