import numpy as np
import numpy.random as random
import scipy as sp
import pandas as pd
import matplotlib.pyplot as plt
import seaborn as sns
sns.set()



import shutil
shutil.unpack_archive(f"chap3/dow+jones+index.zip")


# 7章総合問題
# 1
data = pd.read_csv("chap3/dow_jones_index.data")
print(data.head())


data.info()


data.date = pd.to_datetime(data.date)
print(data.head())


# 2
# ドルを取り除く
for i in ["open", "high", "low", "close", "next_weeks_open", "next_weeks_close"]:
    data[i] = data[i].map(lambda x : x.replace("$", ""))

# #ドルを取り除いた後、 数値型にする
for i in ["open", "high", "low", "close", "next_weeks_open", "next_weeks_close"]:
    data[i] = pd.to_numeric(data[i])
    
print(data.head())


data.info()


# 3
data_stock = data.groupby("stock")
print(data_stock["close"].describe())
print()
# 行と列を入れ替える
# groupbyしたものにdescribe()は無理らしい。→インデックスをstockにする。
# 重複するとunstackできない。dateもつけて一意にする。
# set_indexの引数の順番も注意。unstack()のときの位置が変わる。
data_stock_reverse = data.set_index(["date", "stock"])
data_stock_reverse_unstack = data_stock_reverse.unstack()
data_close = data_stock_reverse_unstack["close"]
data_close.describe()


# 4
# print(data_close)
corr_data = data_close.corr()
corr_data


sns.heatmap(corr_data)


# 相関係数が1のものを除く
corr_data2 = corr_data[corr_data < corr_data.max()]

# ある行の最大値を取得
# print(corr_data2.max())
# 最大値の列名を取得
# print(corr_data2.idxmax())

# 最大値とその列名を組み合わせる
corr_data3 = pd.concat([corr_data2.idxmax(), corr_data2.max()], axis=1)
print(corr_data3)
print()

# 列名1の最大値とその列名を取得する。
max_value = corr_data3[1].max()
max_index = corr_data3[1].idxmax()
print(max_value)
max_index_pair = corr_data3.loc[max_index]

print()
max_index_pair
# print('Max', corr_data3.max(), corr_data3.idxmax(), )



data_close


# CSCOとMSFTの行のみを抜き出して、グラフを作成
data_close_subsets = data_close[['CSCO', 'MSFT']]
print(data_close_subsets)
data_close_subsets.plot(subplots=True)


# 6
data_close.rolling(window=5).mean().head(10)


# 7
log_ratio_stock_close = np.log(data_close / data_close.shift(1))
# print(log_ratio_stock_close)
max_std = log_ratio_stock_close.std().idxmax()
min_std = log_ratio_stock_close.std().idxmin()
print('max', max_std)
print('min', min_std)

print(log_ratio_stock_close[[max_std, min_std]])
log_ratio_stock_close[max_std].plot()
log_ratio_stock_close[min_std].plot()
plt.ylabel('log ratio')
plt.legend()


# 7-2



