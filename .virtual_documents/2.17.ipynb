import matplotlib as mpl
import seaborn as sns
import matplotlib.pyplot as plt
import numpy as np


# 練習問題2-10
def my_function(x):
    return 5*x + 3
x = np.arange(-10, 10)
plt.subplot(2, 2, 1)
plt.plot(x, my_function(x))
plt.grid(True)
# 練習問題2-11
x = np.linspace(-10, 10, 100)
y = np.linspace(-10, 10, 100)
plt.subplot(2, 2, 2)
plt.plot(x, np.sin(x))
plt.plot(y, np.cos(y))
plt.grid(True)


# 練習問題2-12
def uni_hist(N):
    x = np.random.uniform(0.0, 1.0, N)
    plt.subplot(2, 1, 1)
    plt.hist(x)
    plt.title("No1")
    plt.grid(True)
    
    y = np.random.uniform(0.0, 1.0, N)
    plt.subplot(2, 1, 2)
    plt.hist(y)
    plt.title("No2")
    plt.grid(True)
    
    plt.tight_layout()

uni_hist(1000)


uni_hist(100)


uni_hist(10000)


# 2章総合問題
# モンテカルロ法：半径1の円の面積が円周率に等しい。
# 長さ1の正方形の内部の点全体に対する、円の内部の点全体の個数の割合を、円の面積と考える。
# つまり、円の内部の点の個数/合計の点の個数　が、円の面積と考えられる。割合を面積と考えているのがポイント。
# 最初は1/4の円で考えているから、4倍することで丸い円を考えたことになる。
import math
# 1
N = 10000
x = np.random.uniform(0.0, 1.0, N)
y = np.random.uniform(0.0, 1.0, N)
# 2
# math.hypot(x[0], y[0])　例。
# 円の中のxとy
inside_x = []
inside_y = []

# 円の外のxとy
outside_x = []
outside_y = []

count_inside = 0
for count in range(0, N):
    d = math.hypot(x[count], y[count])
    if d < 1:
        count_inside += 1
        inside_x.append(x[count])
        inside_y.append(y[count])
    else:
        outside_x.append(x[count])
        outside_y.append(y[count])
    
print(count_inside)

# 円を書く
circle_x = np.arange(0, 1, 0.001)
circle_y = np.sqrt(1 - circle_x * circle_x)
plt.plot(circle_x, circle_y)
plt.axis("equal")  # x, y の比率を同じにする

# 円の中がred
plt.scatter(inside_x, inside_y, color="r")
# 円の外がblue
plt.scatter(outside_x, outside_y, color="b")

plt.grid(True)

# 3
print("円周率", count_inside / N * 4)


pwd


mkdir chap3


cd ./chap3


pwd


# import requests, zipfile
from io import StringIO
import io
from pathlib import Path 
import pandas as pd
import scipy as sp


p = Path(r"student.zip")
z = zipfile.ZipFile(p)
z.extractall()


student_data_math = pd.read_csv("student-mat.csv", sep=";")
# ?pd.read_csv
student_data_math.head()


student_data_math.info()


student_data_math["sex"].head()
student_data_math["absences"].head()
student_data_math.groupby("sex")["age"].mean()


plt.hist(student_data_math["absences"])
plt.xlabel("absences")
plt.ylabel("count")
plt.grid(True)
print(student_data_math["absences"].mean())
print(student_data_math["absences"].median())
print(student_data_math["absences"].mode())


print(student_data_math["absences"].var(ddof=0))
print(student_data_math["absences"].std(ddof=0))


print(student_data_math["absences"].describe())
# 四分位範囲
student_data_math["absences"].describe()["75%"] - student_data_math["absences"].describe()["25%"]


student_data_math.describe()


# 箱ひげ図
plt.subplot(1, 3, 1)
plt.boxplot(student_data_math["G1"])
plt.grid(True)

plt.subplot(1, 3, 2)
plt.boxplot(student_data_math["absences"])
plt.grid(True)

plt.subplot(1, 3, 3)
plt.boxplot([student_data_math["G1"], student_data_math["G2"], student_data_math["G3"]])
plt.grid(True)


# 変動係数
# student_data_math.describe() 
student_data_math.std(ddof=0, numeric_only=True) / student_data_math.mean(numeric_only=True)


plt.plot(student_data_math["G1"], student_data_math["G3"], "o")
plt.xlabel("G1 Grade")
plt.ylabel("G3 Grade")
plt.grid(True)


# 共分散行列
print(np.cov(student_data_math["G1"], student_data_math["G3"], ddof=0))
# 相関係数
print(sp.stats.pearsonr(student_data_math["G1"], student_data_math["G3"]))


np.corrcoef([student_data_math["G1"], student_data_math["G3"]])


sns.pairplot(student_data_math[["Dalc", "Walc", "G1", "G3"]])
plt.grid(True)


# 練習問題3-1
student_data_por = pd.read_csv("student-por.csv", sep=";")
print(student_data_por.describe())
# print(student_data_por.info())
# 練習問題3-2
# 一意に特定する主キーはない。ただ指定したキーの中で、同じ内容の部分をくっつけているだけ。
student_data_merge = pd.merge(student_data_math
                            , student_data_por
                            , on=["school", "sex", "age", "address", "famsize", "Pstatus", "Medu",
                              "Fedu", "Mjob", "Fjob", "reason", "nursery", "internet"]
                            , suffixes=("_math", "_por"))
student_data_merge.describe()
# 練習問題3-3
sns.pairplot(student_data_merge[["Medu", "Fedu", "G3_math"]])
plt.grid(True)


plt.plot(student_data_math["G1"], student_data_math["G3"], "o")
plt.xlabel("G1")
plt.ylabel("G3")
plt.grid(True)


from sklearn import linear_model
reg = linear_model.LinearRegression()

X = student_data_math.loc[:, ["G1"]].values
Y = student_data_math.loc[:, ["G3"]].values
reg.fit(X, Y)
print(reg.coef_, reg.intercept_)
plt.scatter(X, Y)
plt.xlabel("G1")
plt.ylabel("G3")

plt.plot(X, reg.predict(X))
plt.grid(True)


# 決定係数
reg.score(X, Y)



