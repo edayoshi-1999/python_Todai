import numpy as np
import numpy.random as random
import scipy as sp
import pandas as pd
import matplotlib.pyplot as plt


df = pd.DataFrame(
    np.arange(9).reshape((3, 3)),
    index = [
        ["a", "a", "b"],
        [1, 2, 2]
    ],
    columns = [
        ["Osaka", "Tokyo", "Osaka"],
        ["Blue", "Red", "Red"]
    ]
)
print(df)
print(df.stack())
print(df.stack().unstack())


data = pd.DataFrame({
    "col1":[1, 1, 2, 3, 4, 4, 6, 6],
    "col2":["a", "b", "b", "b", "c", "c", "b", "b"]
})
print(data)
print()
print(data.duplicated())
print()
print(data.drop_duplicates())


data = {
    "id": ["100", "101", "102", "103", "104", "106", "108", "110", "111", "113"],
    "city": ["Tokyo", "Osaka", "Kyoto", "Hokkaido", "Tokyo", "Tokyo", "Osaka", "Kyoto", "Hokkaido", "Tokyo"],
    "birth_year": [1990, 1989, 1992, 1997, 1982, 1991, 1988, 1990, 1995, 1981],
    "name": ["Hiroshi", "Akiko", "Yuki", "Satoru", "Steeve", "Mituru", "Aoi", "Tarou", "Suguru", "Mitsuo"]
}
df = pd.DataFrame(data)
print(df)

city_map = {
    "Tokyo":"Kanto",
    "Hokkaido":"Hokkaido",
    "Osaka":"Kansai",
    "Kyoto":"Kansai"
}
print(city_map)
df["region"] = df["city"].map(city_map)
print(df)
print()
df["up_two_num"] = df["birth_year"].map(lambda x: str(x)[0:3])
print(df)


bins = [1980, 1985, 1990, 1995, 2000]
cut_data = pd.cut(df.birth_year, bins)
print(cut_data)
pd.Series(cut_data).value_counts()


group_names = ["early1980s", "late1980s", "early1990s", "late1990s"]
cut_data = pd.cut(df.birth_year, bins, labels=group_names)
print(cut_data)
print(pd.Series(cut_data).value_counts())
print( pd.cut(df.birth_year, 2) )
print( pd.qcut(df.birth_year, 2) )
print(pd.Series(pd.qcut(df.birth_year, 2) ).value_counts())


student_data_math = pd.read_csv("chap3/student-mat.csv", sep=";")
print(student_data_math.head())
# 練習問題6-7
student_data_math["age2"] = student_data_math["age"].map(lambda x: 2*x) 
print(student_data_math.head())



# 練習問題6-8
bins = [0, 1, 5, 100]
print( pd.cut(student_data_math.absences, bins, right=False) )
cut_data = pd.cut(student_data_math.absences, bins, right=False)
print( pd.Series(cut_data).value_counts() )


# 練習問題6-9
cut_data2 = pd.qcut(student_data_math.absences, 3)
print( pd.Series(cut_data2).value_counts() )


print(df)


print(df.groupby("city").size())
print()
print(df.groupby("city")["birth_year"].mean())
print()
print(df.groupby(["region", "city"])["birth_year"].mean())
print()
print(df.groupby(["region", "city"], as_index=False)["birth_year"].mean())


for group, subdf in df.groupby("region"):
    print("--------------")
    print(f"RegionName:{group}")
    print(subdf)


functions = ["count", "mean", "max", "min"]
data1 = student_data_math.groupby(["sex", "address"])
data1[["age", "G1"]].agg(functions)


# 練習問題6-10
print( student_data_math.groupby("school")["G1"].mean() )
# 練習問題6-11
print()
print( student_data_math.groupby(["school", "sex"])[["G1", "G2", "G3"]].mean() )
# 練習問題6-12
print()
functions2 = ["max", "min"]
data2 = student_data_math.groupby(["school", "sex"])
data2[["G1", "G2", "G3"]].agg(functions2)


from numpy import nan as NA


df = pd.DataFrame(np.random.rand(10, 4))

print(df)
df.iloc[1, 0] = NA
df.iloc[2:3, 2] = NA
df.iloc[5:,3] = NA
print(df)


print(df.dropna())
print()

print(df[[0,1]].dropna())
print()

print(df.fillna(0))
print()

print(df.ffill())
print()

print(df.mean())
print()

df.fillna(df.mean())


df2 = pd.DataFrame(np.random.rand(15, 6))
print(df2)
df2.iloc[2, 0] = NA
df2.iloc[5:9, 2] = NA
df2.iloc[7:10, 3] = NA
df2.iloc[10, 5] = NA
print(df2)


# 練習問題6-13
print(df2.dropna())
# 練習問題6-14
print(df2.fillna(0))
# 練習問題6-15
print()
print(df2.mean())
print()
print(df2.fillna(df2.mean()))


import pandas_datareader.data as pdr


start_date = "2001/1/2"
end_date = "2016/12/30"

data = pdr.DataReader("DEXJPUS", "fred", start_date, end_date)
print(data.head())
print(data)


data["2016-04-01":"2016-04-30"]


data.resample("ME").last().head()


print(data.resample("D").last().head())
print()
print(data.resample("D").ffill().head())


print(data.shift(1).head())
ratio = data / data.shift(1)
print(ratio.head())


# 練習問題6-16
data.resample("YE").mean().head()


print(data.head())
print(data.rolling(3).mean().head())
print()
print(data.rolling(3).std().head())


# 練習問題6-17
data2 = data.rolling(20).mean().dropna()
data2.head()


# 6章総合問題
data = student_data_math.groupby(["age", "sex"])["G1"].mean()
print(data)
data2 = data.unstack()
print(data2)
print()
print(data2.dropna())


import seaborn as sns
sns.set()


x = [1, 2, 3]
y = [10, 1, 4]

plt.bar(x, y, align="center", width=0.5)
plt.xticks(x, ["Aclass", "Bclass", "Cclass"])
plt.xlabel("Class")
plt.ylabel("Score")


x = [1, 2, 3]
y = [10, 1, 4]

plt.barh(x, y, align="center")
plt.yticks(x, ["Aclass", "Bclass", "Cclass"])
plt.ylabel("Class")
plt.xlabel("Score")


y1 = np.array([30, 10, 40])
y2 = np.array([10, 50, 90])

x = np.arange(len(y1))
w = 0.4

plt.bar(x, y1, color="blue", width=w, label="math first", align="center")
plt.bar(x+w, y2, color="green", width=w, label="math final", align="center")

plt.legend(loc="best")
plt.xticks(x+w/2, ["ClassA", "ClassB", "ClassC"])


height1 = np.array([100, 200, 300, 400, 500])
height2 = np.array([1000, 800, 600, 400, 200])

x = np.array([1, 2, 3, 4, 5])

p1 = plt.bar(x, height1, color="blue")
p2 = plt.bar(x, height2, bottom=height1, color="lightblue")

plt.legend((p1[0], p2[0]), ("Class1", "Class2"))



labels = ["Frogs", "Hogs", "Dogs", "Logs"]
sizes = [15, 30, 45, 10]
colors = ["yellowgreen", "gold", "lightskyblue", "lightcoral"]
explode = (0, 0.1, 0, 0)

plt.pie(sizes, explode=explode, labels=labels, colors=colors, autopct="%1.1f%%", shadow=True, startangle=90)

plt.axis("equal")


N = 25

x = np.random.rand(N)
y = np.random.rand(N)

colors = np.random.rand(N)
area = 10 * np.pi * (15 * np.random.rand(N)) ** 2

plt.scatter(x, y, s=area, c=colors, alpha=0.5)



# 練習問題7-1
print(student_data_math)



