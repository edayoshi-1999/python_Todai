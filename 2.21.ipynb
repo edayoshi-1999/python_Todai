{
 "cells": [
  {
   "cell_type": "code",
   "execution_count": 3,
   "id": "7c4affb2-c48c-4e23-b5db-0a341953147c",
   "metadata": {},
   "outputs": [],
   "source": [
    "import numpy as np\n",
    "import numpy.random as random\n",
    "import scipy as sp\n",
    "import pandas as pd\n",
    "import matplotlib.pyplot as plt"
   ]
  },
  {
   "cell_type": "code",
   "execution_count": 5,
   "id": "98af4e78-ce03-4232-9525-10d7777126d9",
   "metadata": {},
   "outputs": [
    {
     "name": "stdout",
     "output_type": "stream",
     "text": [
      "    Osaka Tokyo Osaka\n",
      "     Blue   Red   Red\n",
      "a 1     0     1     2\n",
      "  2     3     4     5\n",
      "b 2     6     7     8\n",
      "          Osaka  Tokyo\n",
      "a 1 Blue      0    NaN\n",
      "    Red       2    1.0\n",
      "  2 Blue      3    NaN\n",
      "    Red       5    4.0\n",
      "b 2 Blue      6    NaN\n",
      "    Red       8    7.0\n",
      "    Osaka     Tokyo     \n",
      "     Blue Red  Blue  Red\n",
      "a 1     0   2   NaN  1.0\n",
      "  2     3   5   NaN  4.0\n",
      "b 2     6   8   NaN  7.0\n"
     ]
    },
    {
     "name": "stderr",
     "output_type": "stream",
     "text": [
      "C:\\Users\\utaka\\AppData\\Local\\Temp\\ipykernel_17460\\1161229033.py:13: FutureWarning: The previous implementation of stack is deprecated and will be removed in a future version of pandas. See the What's New notes for pandas 2.1.0 for details. Specify future_stack=True to adopt the new implementation and silence this warning.\n",
      "  print(df.stack())\n",
      "C:\\Users\\utaka\\AppData\\Local\\Temp\\ipykernel_17460\\1161229033.py:14: FutureWarning: The previous implementation of stack is deprecated and will be removed in a future version of pandas. See the What's New notes for pandas 2.1.0 for details. Specify future_stack=True to adopt the new implementation and silence this warning.\n",
      "  print(df.stack().unstack())\n"
     ]
    }
   ],
   "source": [
    "df = pd.DataFrame(\n",
    "    np.arange(9).reshape((3, 3)),\n",
    "    index = [\n",
    "        [\"a\", \"a\", \"b\"],\n",
    "        [1, 2, 2]\n",
    "    ],\n",
    "    columns = [\n",
    "        [\"Osaka\", \"Tokyo\", \"Osaka\"],\n",
    "        [\"Blue\", \"Red\", \"Red\"]\n",
    "    ]\n",
    ")\n",
    "print(df)\n",
    "print(df.stack())\n",
    "print(df.stack().unstack())"
   ]
  },
  {
   "cell_type": "code",
   "execution_count": 7,
   "id": "3093235c-0a6e-4d81-b36d-0f8124ce3c7d",
   "metadata": {},
   "outputs": [
    {
     "name": "stdout",
     "output_type": "stream",
     "text": [
      "   col1 col2\n",
      "0     1    a\n",
      "1     1    b\n",
      "2     2    b\n",
      "3     3    b\n",
      "4     4    c\n",
      "5     4    c\n",
      "6     6    b\n",
      "7     6    b\n",
      "\n",
      "0    False\n",
      "1    False\n",
      "2    False\n",
      "3    False\n",
      "4    False\n",
      "5     True\n",
      "6    False\n",
      "7     True\n",
      "dtype: bool\n",
      "\n",
      "   col1 col2\n",
      "0     1    a\n",
      "1     1    b\n",
      "2     2    b\n",
      "3     3    b\n",
      "4     4    c\n",
      "6     6    b\n"
     ]
    }
   ],
   "source": [
    "data = pd.DataFrame({\n",
    "    \"col1\":[1, 1, 2, 3, 4, 4, 6, 6],\n",
    "    \"col2\":[\"a\", \"b\", \"b\", \"b\", \"c\", \"c\", \"b\", \"b\"]\n",
    "})\n",
    "print(data)\n",
    "print()\n",
    "print(data.duplicated())\n",
    "print()\n",
    "print(data.drop_duplicates())"
   ]
  },
  {
   "cell_type": "code",
   "execution_count": 8,
   "id": "acca6a08-39d6-40b3-85cc-b13e6b697622",
   "metadata": {},
   "outputs": [
    {
     "name": "stdout",
     "output_type": "stream",
     "text": [
      "    id      city  birth_year     name\n",
      "0  100     Tokyo        1990  Hiroshi\n",
      "1  101     Osaka        1989    Akiko\n",
      "2  102     Kyoto        1992     Yuki\n",
      "3  103  Hokkaido        1997   Satoru\n",
      "4  104     Tokyo        1982   Steeve\n",
      "5  106     Tokyo        1991   Mituru\n",
      "6  108     Osaka        1988      Aoi\n",
      "7  110     Kyoto        1990    Tarou\n",
      "8  111  Hokkaido        1995   Suguru\n",
      "9  113     Tokyo        1981   Mitsuo\n",
      "{'Tokyo': 'Kanto', 'Hokkaido': 'Hokkaido', 'Osaka': 'Kansai', 'Kyoto': 'Kansai'}\n",
      "    id      city  birth_year     name    region\n",
      "0  100     Tokyo        1990  Hiroshi     Kanto\n",
      "1  101     Osaka        1989    Akiko    Kansai\n",
      "2  102     Kyoto        1992     Yuki    Kansai\n",
      "3  103  Hokkaido        1997   Satoru  Hokkaido\n",
      "4  104     Tokyo        1982   Steeve     Kanto\n",
      "5  106     Tokyo        1991   Mituru     Kanto\n",
      "6  108     Osaka        1988      Aoi    Kansai\n",
      "7  110     Kyoto        1990    Tarou    Kansai\n",
      "8  111  Hokkaido        1995   Suguru  Hokkaido\n",
      "9  113     Tokyo        1981   Mitsuo     Kanto\n",
      "\n",
      "    id      city  birth_year     name    region up_two_num\n",
      "0  100     Tokyo        1990  Hiroshi     Kanto        199\n",
      "1  101     Osaka        1989    Akiko    Kansai        198\n",
      "2  102     Kyoto        1992     Yuki    Kansai        199\n",
      "3  103  Hokkaido        1997   Satoru  Hokkaido        199\n",
      "4  104     Tokyo        1982   Steeve     Kanto        198\n",
      "5  106     Tokyo        1991   Mituru     Kanto        199\n",
      "6  108     Osaka        1988      Aoi    Kansai        198\n",
      "7  110     Kyoto        1990    Tarou    Kansai        199\n",
      "8  111  Hokkaido        1995   Suguru  Hokkaido        199\n",
      "9  113     Tokyo        1981   Mitsuo     Kanto        198\n"
     ]
    }
   ],
   "source": [
    "data = {\n",
    "    \"id\": [\"100\", \"101\", \"102\", \"103\", \"104\", \"106\", \"108\", \"110\", \"111\", \"113\"],\n",
    "    \"city\": [\"Tokyo\", \"Osaka\", \"Kyoto\", \"Hokkaido\", \"Tokyo\", \"Tokyo\", \"Osaka\", \"Kyoto\", \"Hokkaido\", \"Tokyo\"],\n",
    "    \"birth_year\": [1990, 1989, 1992, 1997, 1982, 1991, 1988, 1990, 1995, 1981],\n",
    "    \"name\": [\"Hiroshi\", \"Akiko\", \"Yuki\", \"Satoru\", \"Steeve\", \"Mituru\", \"Aoi\", \"Tarou\", \"Suguru\", \"Mitsuo\"]\n",
    "}\n",
    "df = pd.DataFrame(data)\n",
    "print(df)\n",
    "\n",
    "city_map = {\n",
    "    \"Tokyo\":\"Kanto\",\n",
    "    \"Hokkaido\":\"Hokkaido\",\n",
    "    \"Osaka\":\"Kansai\",\n",
    "    \"Kyoto\":\"Kansai\"\n",
    "}\n",
    "print(city_map)\n",
    "df[\"region\"] = df[\"city\"].map(city_map)\n",
    "print(df)\n",
    "print()\n",
    "df[\"up_two_num\"] = df[\"birth_year\"].map(lambda x: str(x)[0:3])\n",
    "print(df)"
   ]
  },
  {
   "cell_type": "code",
   "execution_count": 10,
   "id": "bab8dee9-5e58-4db0-8964-a0b1dff2d833",
   "metadata": {},
   "outputs": [
    {
     "name": "stdout",
     "output_type": "stream",
     "text": [
      "0    (1985, 1990]\n",
      "1    (1985, 1990]\n",
      "2    (1990, 1995]\n",
      "3    (1995, 2000]\n",
      "4    (1980, 1985]\n",
      "5    (1990, 1995]\n",
      "6    (1985, 1990]\n",
      "7    (1985, 1990]\n",
      "8    (1990, 1995]\n",
      "9    (1980, 1985]\n",
      "Name: birth_year, dtype: category\n",
      "Categories (4, interval[int64, right]): [(1980, 1985] < (1985, 1990] < (1990, 1995] < (1995, 2000]]\n"
     ]
    },
    {
     "data": {
      "text/plain": [
       "birth_year\n",
       "(1985, 1990]    4\n",
       "(1990, 1995]    3\n",
       "(1980, 1985]    2\n",
       "(1995, 2000]    1\n",
       "Name: count, dtype: int64"
      ]
     },
     "execution_count": 10,
     "metadata": {},
     "output_type": "execute_result"
    }
   ],
   "source": [
    "bins = [1980, 1985, 1990, 1995, 2000]\n",
    "cut_data = pd.cut(df.birth_year, bins)\n",
    "print(cut_data)\n",
    "pd.Series(cut_data).value_counts()"
   ]
  },
  {
   "cell_type": "code",
   "execution_count": 13,
   "id": "8129ec3d-477a-4a4b-a34e-5d073f02955a",
   "metadata": {},
   "outputs": [
    {
     "name": "stdout",
     "output_type": "stream",
     "text": [
      "0     late1980s\n",
      "1     late1980s\n",
      "2    early1990s\n",
      "3     late1990s\n",
      "4    early1980s\n",
      "5    early1990s\n",
      "6     late1980s\n",
      "7     late1980s\n",
      "8    early1990s\n",
      "9    early1980s\n",
      "Name: birth_year, dtype: category\n",
      "Categories (4, object): ['early1980s' < 'late1980s' < 'early1990s' < 'late1990s']\n",
      "birth_year\n",
      "late1980s     4\n",
      "early1990s    3\n",
      "early1980s    2\n",
      "late1990s     1\n",
      "Name: count, dtype: int64\n",
      "0      (1989.0, 1997.0]\n",
      "1    (1980.984, 1989.0]\n",
      "2      (1989.0, 1997.0]\n",
      "3      (1989.0, 1997.0]\n",
      "4    (1980.984, 1989.0]\n",
      "5      (1989.0, 1997.0]\n",
      "6    (1980.984, 1989.0]\n",
      "7      (1989.0, 1997.0]\n",
      "8      (1989.0, 1997.0]\n",
      "9    (1980.984, 1989.0]\n",
      "Name: birth_year, dtype: category\n",
      "Categories (2, interval[float64, right]): [(1980.984, 1989.0] < (1989.0, 1997.0]]\n",
      "0    (1980.999, 1990.0]\n",
      "1    (1980.999, 1990.0]\n",
      "2      (1990.0, 1997.0]\n",
      "3      (1990.0, 1997.0]\n",
      "4    (1980.999, 1990.0]\n",
      "5      (1990.0, 1997.0]\n",
      "6    (1980.999, 1990.0]\n",
      "7    (1980.999, 1990.0]\n",
      "8      (1990.0, 1997.0]\n",
      "9    (1980.999, 1990.0]\n",
      "Name: birth_year, dtype: category\n",
      "Categories (2, interval[float64, right]): [(1980.999, 1990.0] < (1990.0, 1997.0]]\n",
      "birth_year\n",
      "(1980.999, 1990.0]    6\n",
      "(1990.0, 1997.0]      4\n",
      "Name: count, dtype: int64\n"
     ]
    }
   ],
   "source": [
    "group_names = [\"early1980s\", \"late1980s\", \"early1990s\", \"late1990s\"]\n",
    "cut_data = pd.cut(df.birth_year, bins, labels=group_names)\n",
    "print(cut_data)\n",
    "print(pd.Series(cut_data).value_counts())\n",
    "print( pd.cut(df.birth_year, 2) )\n",
    "print( pd.qcut(df.birth_year, 2) )\n",
    "print(pd.Series(pd.qcut(df.birth_year, 2) ).value_counts())"
   ]
  },
  {
   "cell_type": "code",
   "execution_count": 15,
   "id": "4107e4f0-4e93-4f83-b423-3531b812f391",
   "metadata": {},
   "outputs": [
    {
     "name": "stdout",
     "output_type": "stream",
     "text": [
      "  school sex  age address famsize Pstatus  Medu  Fedu     Mjob      Fjob  ...  \\\n",
      "0     GP   F   18       U     GT3       A     4     4  at_home   teacher  ...   \n",
      "1     GP   F   17       U     GT3       T     1     1  at_home     other  ...   \n",
      "2     GP   F   15       U     LE3       T     1     1  at_home     other  ...   \n",
      "3     GP   F   15       U     GT3       T     4     2   health  services  ...   \n",
      "4     GP   F   16       U     GT3       T     3     3    other     other  ...   \n",
      "\n",
      "  famrel freetime  goout  Dalc  Walc health absences  G1  G2  G3  \n",
      "0      4        3      4     1     1      3        6   5   6   6  \n",
      "1      5        3      3     1     1      3        4   5   5   6  \n",
      "2      4        3      2     2     3      3       10   7   8  10  \n",
      "3      3        2      2     1     1      5        2  15  14  15  \n",
      "4      4        3      2     1     2      5        4   6  10  10  \n",
      "\n",
      "[5 rows x 33 columns]\n",
      "  school sex  age address famsize Pstatus  Medu  Fedu     Mjob      Fjob  ...  \\\n",
      "0     GP   F   18       U     GT3       A     4     4  at_home   teacher  ...   \n",
      "1     GP   F   17       U     GT3       T     1     1  at_home     other  ...   \n",
      "2     GP   F   15       U     LE3       T     1     1  at_home     other  ...   \n",
      "3     GP   F   15       U     GT3       T     4     2   health  services  ...   \n",
      "4     GP   F   16       U     GT3       T     3     3    other     other  ...   \n",
      "\n",
      "  freetime goout  Dalc  Walc  health absences  G1  G2  G3 age2  \n",
      "0        3     4     1     1       3        6   5   6   6   36  \n",
      "1        3     3     1     1       3        4   5   5   6   34  \n",
      "2        3     2     2     3       3       10   7   8  10   30  \n",
      "3        2     2     1     1       5        2  15  14  15   30  \n",
      "4        3     2     1     2       5        4   6  10  10   32  \n",
      "\n",
      "[5 rows x 34 columns]\n"
     ]
    }
   ],
   "source": [
    "student_data_math = pd.read_csv(\"chap3/student-mat.csv\", sep=\";\")\n",
    "print(student_data_math.head())\n",
    "# 練習問題6-7\n",
    "student_data_math[\"age2\"] = student_data_math[\"age\"].map(lambda x: 2*x) \n",
    "print(student_data_math.head())\n"
   ]
  },
  {
   "cell_type": "code",
   "execution_count": 17,
   "id": "0e42a27d-5dd4-4960-a7de-306852001db5",
   "metadata": {},
   "outputs": [
    {
     "name": "stdout",
     "output_type": "stream",
     "text": [
      "0      [5, 100)\n",
      "1        [1, 5)\n",
      "2      [5, 100)\n",
      "3        [1, 5)\n",
      "4        [1, 5)\n",
      "         ...   \n",
      "390    [5, 100)\n",
      "391      [1, 5)\n",
      "392      [1, 5)\n",
      "393      [0, 1)\n",
      "394    [5, 100)\n",
      "Name: absences, Length: 395, dtype: category\n",
      "Categories (3, interval[int64, left]): [[0, 1) < [1, 5) < [5, 100)]\n",
      "absences\n",
      "[5, 100)    151\n",
      "[1, 5)      129\n",
      "[0, 1)      115\n",
      "Name: count, dtype: int64\n"
     ]
    }
   ],
   "source": [
    "# 練習問題6-8\n",
    "bins = [0, 1, 5, 100]\n",
    "print( pd.cut(student_data_math.absences, bins, right=False) )\n",
    "cut_data = pd.cut(student_data_math.absences, bins, right=False)\n",
    "print( pd.Series(cut_data).value_counts() )"
   ]
  },
  {
   "cell_type": "code",
   "execution_count": 19,
   "id": "95febb36-92ee-42c1-995e-f96b213a271c",
   "metadata": {},
   "outputs": [
    {
     "name": "stdout",
     "output_type": "stream",
     "text": [
      "absences\n",
      "(-0.001, 2.0]    183\n",
      "(6.0, 75.0]      115\n",
      "(2.0, 6.0]        97\n",
      "Name: count, dtype: int64\n"
     ]
    }
   ],
   "source": [
    "# 練習問題6-9\n",
    "cut_data2 = pd.qcut(student_data_math.absences, 3)\n",
    "print( pd.Series(cut_data2).value_counts() )"
   ]
  },
  {
   "cell_type": "code",
   "execution_count": 21,
   "id": "d8ce45a7-e43e-4c8e-88b4-ea60f5200342",
   "metadata": {},
   "outputs": [
    {
     "name": "stdout",
     "output_type": "stream",
     "text": [
      "    id      city  birth_year     name    region up_two_num\n",
      "0  100     Tokyo        1990  Hiroshi     Kanto        199\n",
      "1  101     Osaka        1989    Akiko    Kansai        198\n",
      "2  102     Kyoto        1992     Yuki    Kansai        199\n",
      "3  103  Hokkaido        1997   Satoru  Hokkaido        199\n",
      "4  104     Tokyo        1982   Steeve     Kanto        198\n",
      "5  106     Tokyo        1991   Mituru     Kanto        199\n",
      "6  108     Osaka        1988      Aoi    Kansai        198\n",
      "7  110     Kyoto        1990    Tarou    Kansai        199\n",
      "8  111  Hokkaido        1995   Suguru  Hokkaido        199\n",
      "9  113     Tokyo        1981   Mitsuo     Kanto        198\n"
     ]
    }
   ],
   "source": [
    "print(df)"
   ]
  },
  {
   "cell_type": "code",
   "execution_count": 23,
   "id": "0df33885-31ae-4650-959d-95718eadb5e6",
   "metadata": {},
   "outputs": [
    {
     "name": "stdout",
     "output_type": "stream",
     "text": [
      "city\n",
      "Hokkaido    2\n",
      "Kyoto       2\n",
      "Osaka       2\n",
      "Tokyo       4\n",
      "dtype: int64\n",
      "\n",
      "city\n",
      "Hokkaido    1996.0\n",
      "Kyoto       1991.0\n",
      "Osaka       1988.5\n",
      "Tokyo       1986.0\n",
      "Name: birth_year, dtype: float64\n",
      "\n",
      "region    city    \n",
      "Hokkaido  Hokkaido    1996.0\n",
      "Kansai    Kyoto       1991.0\n",
      "          Osaka       1988.5\n",
      "Kanto     Tokyo       1986.0\n",
      "Name: birth_year, dtype: float64\n",
      "\n",
      "     region      city  birth_year\n",
      "0  Hokkaido  Hokkaido      1996.0\n",
      "1    Kansai     Kyoto      1991.0\n",
      "2    Kansai     Osaka      1988.5\n",
      "3     Kanto     Tokyo      1986.0\n"
     ]
    }
   ],
   "source": [
    "print(df.groupby(\"city\").size())\n",
    "print()\n",
    "print(df.groupby(\"city\")[\"birth_year\"].mean())\n",
    "print()\n",
    "print(df.groupby([\"region\", \"city\"])[\"birth_year\"].mean())\n",
    "print()\n",
    "print(df.groupby([\"region\", \"city\"], as_index=False)[\"birth_year\"].mean())"
   ]
  },
  {
   "cell_type": "code",
   "execution_count": 25,
   "id": "7678bb81-1dbf-494c-99c1-1d960bc169ac",
   "metadata": {},
   "outputs": [
    {
     "name": "stdout",
     "output_type": "stream",
     "text": [
      "--------------\n",
      "RegionName:Hokkaido\n",
      "    id      city  birth_year    name    region up_two_num\n",
      "3  103  Hokkaido        1997  Satoru  Hokkaido        199\n",
      "8  111  Hokkaido        1995  Suguru  Hokkaido        199\n",
      "--------------\n",
      "RegionName:Kansai\n",
      "    id   city  birth_year   name  region up_two_num\n",
      "1  101  Osaka        1989  Akiko  Kansai        198\n",
      "2  102  Kyoto        1992   Yuki  Kansai        199\n",
      "6  108  Osaka        1988    Aoi  Kansai        198\n",
      "7  110  Kyoto        1990  Tarou  Kansai        199\n",
      "--------------\n",
      "RegionName:Kanto\n",
      "    id   city  birth_year     name region up_two_num\n",
      "0  100  Tokyo        1990  Hiroshi  Kanto        199\n",
      "4  104  Tokyo        1982   Steeve  Kanto        198\n",
      "5  106  Tokyo        1991   Mituru  Kanto        199\n",
      "9  113  Tokyo        1981   Mitsuo  Kanto        198\n"
     ]
    }
   ],
   "source": [
    "for group, subdf in df.groupby(\"region\"):\n",
    "    print(\"--------------\")\n",
    "    print(f\"RegionName:{group}\")\n",
    "    print(subdf)"
   ]
  },
  {
   "cell_type": "code",
   "execution_count": 27,
   "id": "7690220d-84e4-4b93-a4cc-7619dd62e014",
   "metadata": {},
   "outputs": [
    {
     "data": {
      "text/html": [
       "<div>\n",
       "<style scoped>\n",
       "    .dataframe tbody tr th:only-of-type {\n",
       "        vertical-align: middle;\n",
       "    }\n",
       "\n",
       "    .dataframe tbody tr th {\n",
       "        vertical-align: top;\n",
       "    }\n",
       "\n",
       "    .dataframe thead tr th {\n",
       "        text-align: left;\n",
       "    }\n",
       "\n",
       "    .dataframe thead tr:last-of-type th {\n",
       "        text-align: right;\n",
       "    }\n",
       "</style>\n",
       "<table border=\"1\" class=\"dataframe\">\n",
       "  <thead>\n",
       "    <tr>\n",
       "      <th></th>\n",
       "      <th></th>\n",
       "      <th colspan=\"4\" halign=\"left\">age</th>\n",
       "      <th colspan=\"4\" halign=\"left\">G1</th>\n",
       "    </tr>\n",
       "    <tr>\n",
       "      <th></th>\n",
       "      <th></th>\n",
       "      <th>count</th>\n",
       "      <th>mean</th>\n",
       "      <th>max</th>\n",
       "      <th>min</th>\n",
       "      <th>count</th>\n",
       "      <th>mean</th>\n",
       "      <th>max</th>\n",
       "      <th>min</th>\n",
       "    </tr>\n",
       "    <tr>\n",
       "      <th>sex</th>\n",
       "      <th>address</th>\n",
       "      <th></th>\n",
       "      <th></th>\n",
       "      <th></th>\n",
       "      <th></th>\n",
       "      <th></th>\n",
       "      <th></th>\n",
       "      <th></th>\n",
       "      <th></th>\n",
       "    </tr>\n",
       "  </thead>\n",
       "  <tbody>\n",
       "    <tr>\n",
       "      <th rowspan=\"2\" valign=\"top\">F</th>\n",
       "      <th>R</th>\n",
       "      <td>44</td>\n",
       "      <td>16.977273</td>\n",
       "      <td>19</td>\n",
       "      <td>15</td>\n",
       "      <td>44</td>\n",
       "      <td>10.295455</td>\n",
       "      <td>19</td>\n",
       "      <td>6</td>\n",
       "    </tr>\n",
       "    <tr>\n",
       "      <th>U</th>\n",
       "      <td>164</td>\n",
       "      <td>16.664634</td>\n",
       "      <td>20</td>\n",
       "      <td>15</td>\n",
       "      <td>164</td>\n",
       "      <td>10.707317</td>\n",
       "      <td>18</td>\n",
       "      <td>4</td>\n",
       "    </tr>\n",
       "    <tr>\n",
       "      <th rowspan=\"2\" valign=\"top\">M</th>\n",
       "      <th>R</th>\n",
       "      <td>44</td>\n",
       "      <td>17.113636</td>\n",
       "      <td>21</td>\n",
       "      <td>15</td>\n",
       "      <td>44</td>\n",
       "      <td>10.659091</td>\n",
       "      <td>18</td>\n",
       "      <td>3</td>\n",
       "    </tr>\n",
       "    <tr>\n",
       "      <th>U</th>\n",
       "      <td>143</td>\n",
       "      <td>16.517483</td>\n",
       "      <td>22</td>\n",
       "      <td>15</td>\n",
       "      <td>143</td>\n",
       "      <td>11.405594</td>\n",
       "      <td>19</td>\n",
       "      <td>5</td>\n",
       "    </tr>\n",
       "  </tbody>\n",
       "</table>\n",
       "</div>"
      ],
      "text/plain": [
       "              age                       G1                   \n",
       "            count       mean max min count       mean max min\n",
       "sex address                                                  \n",
       "F   R          44  16.977273  19  15    44  10.295455  19   6\n",
       "    U         164  16.664634  20  15   164  10.707317  18   4\n",
       "M   R          44  17.113636  21  15    44  10.659091  18   3\n",
       "    U         143  16.517483  22  15   143  11.405594  19   5"
      ]
     },
     "execution_count": 27,
     "metadata": {},
     "output_type": "execute_result"
    }
   ],
   "source": [
    "functions = [\"count\", \"mean\", \"max\", \"min\"]\n",
    "data1 = student_data_math.groupby([\"sex\", \"address\"])\n",
    "data1[[\"age\", \"G1\"]].agg(functions)"
   ]
  },
  {
   "cell_type": "code",
   "execution_count": 29,
   "id": "1b80ce07-1ea9-4518-a0b8-f7346ce69c1a",
   "metadata": {},
   "outputs": [
    {
     "name": "stdout",
     "output_type": "stream",
     "text": [
      "school\n",
      "GP    10.939828\n",
      "MS    10.673913\n",
      "Name: G1, dtype: float64\n",
      "\n",
      "                   G1         G2         G3\n",
      "school sex                                 \n",
      "GP     F    10.579235  10.398907   9.972678\n",
      "       M    11.337349  11.204819  11.060241\n",
      "MS     F    10.920000  10.320000   9.920000\n",
      "       M    10.380952  10.047619   9.761905\n",
      "\n"
     ]
    },
    {
     "data": {
      "text/html": [
       "<div>\n",
       "<style scoped>\n",
       "    .dataframe tbody tr th:only-of-type {\n",
       "        vertical-align: middle;\n",
       "    }\n",
       "\n",
       "    .dataframe tbody tr th {\n",
       "        vertical-align: top;\n",
       "    }\n",
       "\n",
       "    .dataframe thead tr th {\n",
       "        text-align: left;\n",
       "    }\n",
       "\n",
       "    .dataframe thead tr:last-of-type th {\n",
       "        text-align: right;\n",
       "    }\n",
       "</style>\n",
       "<table border=\"1\" class=\"dataframe\">\n",
       "  <thead>\n",
       "    <tr>\n",
       "      <th></th>\n",
       "      <th></th>\n",
       "      <th colspan=\"2\" halign=\"left\">G1</th>\n",
       "      <th colspan=\"2\" halign=\"left\">G2</th>\n",
       "      <th colspan=\"2\" halign=\"left\">G3</th>\n",
       "    </tr>\n",
       "    <tr>\n",
       "      <th></th>\n",
       "      <th></th>\n",
       "      <th>max</th>\n",
       "      <th>min</th>\n",
       "      <th>max</th>\n",
       "      <th>min</th>\n",
       "      <th>max</th>\n",
       "      <th>min</th>\n",
       "    </tr>\n",
       "    <tr>\n",
       "      <th>school</th>\n",
       "      <th>sex</th>\n",
       "      <th></th>\n",
       "      <th></th>\n",
       "      <th></th>\n",
       "      <th></th>\n",
       "      <th></th>\n",
       "      <th></th>\n",
       "    </tr>\n",
       "  </thead>\n",
       "  <tbody>\n",
       "    <tr>\n",
       "      <th rowspan=\"2\" valign=\"top\">GP</th>\n",
       "      <th>F</th>\n",
       "      <td>18</td>\n",
       "      <td>4</td>\n",
       "      <td>18</td>\n",
       "      <td>0</td>\n",
       "      <td>19</td>\n",
       "      <td>0</td>\n",
       "    </tr>\n",
       "    <tr>\n",
       "      <th>M</th>\n",
       "      <td>19</td>\n",
       "      <td>3</td>\n",
       "      <td>19</td>\n",
       "      <td>0</td>\n",
       "      <td>20</td>\n",
       "      <td>0</td>\n",
       "    </tr>\n",
       "    <tr>\n",
       "      <th rowspan=\"2\" valign=\"top\">MS</th>\n",
       "      <th>F</th>\n",
       "      <td>19</td>\n",
       "      <td>6</td>\n",
       "      <td>18</td>\n",
       "      <td>5</td>\n",
       "      <td>19</td>\n",
       "      <td>0</td>\n",
       "    </tr>\n",
       "    <tr>\n",
       "      <th>M</th>\n",
       "      <td>15</td>\n",
       "      <td>6</td>\n",
       "      <td>16</td>\n",
       "      <td>5</td>\n",
       "      <td>16</td>\n",
       "      <td>0</td>\n",
       "    </tr>\n",
       "  </tbody>\n",
       "</table>\n",
       "</div>"
      ],
      "text/plain": [
       "            G1      G2      G3    \n",
       "           max min max min max min\n",
       "school sex                        \n",
       "GP     F    18   4  18   0  19   0\n",
       "       M    19   3  19   0  20   0\n",
       "MS     F    19   6  18   5  19   0\n",
       "       M    15   6  16   5  16   0"
      ]
     },
     "execution_count": 29,
     "metadata": {},
     "output_type": "execute_result"
    }
   ],
   "source": [
    "# 練習問題6-10\n",
    "print( student_data_math.groupby(\"school\")[\"G1\"].mean() )\n",
    "# 練習問題6-11\n",
    "print()\n",
    "print( student_data_math.groupby([\"school\", \"sex\"])[[\"G1\", \"G2\", \"G3\"]].mean() )\n",
    "# 練習問題6-12\n",
    "print()\n",
    "functions2 = [\"max\", \"min\"]\n",
    "data2 = student_data_math.groupby([\"school\", \"sex\"])\n",
    "data2[[\"G1\", \"G2\", \"G3\"]].agg(functions2)"
   ]
  },
  {
   "cell_type": "code",
   "execution_count": 31,
   "id": "9d5d5e3a-9c68-4191-8ebe-c10eb076f0d2",
   "metadata": {},
   "outputs": [],
   "source": [
    "from numpy import nan as NA"
   ]
  },
  {
   "cell_type": "code",
   "execution_count": 33,
   "id": "d8572d53-bec1-48ec-9fb2-f9d5e0bb6ebb",
   "metadata": {},
   "outputs": [
    {
     "name": "stdout",
     "output_type": "stream",
     "text": [
      "          0         1         2         3\n",
      "0  0.839591  0.154390  0.669208  0.690040\n",
      "1  0.049893  0.140344  0.557010  0.376939\n",
      "2  0.744470  0.874460  0.243134  0.660689\n",
      "3  0.918366  0.867535  0.201336  0.217897\n",
      "4  0.862516  0.035496  0.510115  0.801319\n",
      "5  0.371085  0.978713  0.983848  0.824068\n",
      "6  0.471616  0.095175  0.219440  0.095082\n",
      "7  0.795825  0.040714  0.955861  0.248012\n",
      "8  0.369071  0.987432  0.057052  0.063251\n",
      "9  0.468988  0.379328  0.856963  0.122728\n",
      "          0         1         2         3\n",
      "0  0.839591  0.154390  0.669208  0.690040\n",
      "1       NaN  0.140344  0.557010  0.376939\n",
      "2  0.744470  0.874460       NaN  0.660689\n",
      "3  0.918366  0.867535  0.201336  0.217897\n",
      "4  0.862516  0.035496  0.510115  0.801319\n",
      "5  0.371085  0.978713  0.983848       NaN\n",
      "6  0.471616  0.095175  0.219440       NaN\n",
      "7  0.795825  0.040714  0.955861       NaN\n",
      "8  0.369071  0.987432  0.057052       NaN\n",
      "9  0.468988  0.379328  0.856963       NaN\n"
     ]
    }
   ],
   "source": [
    "df = pd.DataFrame(np.random.rand(10, 4))\n",
    "\n",
    "print(df)\n",
    "df.iloc[1, 0] = NA\n",
    "df.iloc[2:3, 2] = NA\n",
    "df.iloc[5:,3] = NA\n",
    "print(df)"
   ]
  },
  {
   "cell_type": "code",
   "execution_count": 34,
   "id": "570c78c6-d199-4d91-8f5f-fec9f015576f",
   "metadata": {},
   "outputs": [
    {
     "name": "stdout",
     "output_type": "stream",
     "text": [
      "          0         1         2         3\n",
      "0  0.839591  0.154390  0.669208  0.690040\n",
      "3  0.918366  0.867535  0.201336  0.217897\n",
      "4  0.862516  0.035496  0.510115  0.801319\n",
      "\n",
      "          0         1\n",
      "0  0.839591  0.154390\n",
      "2  0.744470  0.874460\n",
      "3  0.918366  0.867535\n",
      "4  0.862516  0.035496\n",
      "5  0.371085  0.978713\n",
      "6  0.471616  0.095175\n",
      "7  0.795825  0.040714\n",
      "8  0.369071  0.987432\n",
      "9  0.468988  0.379328\n",
      "\n",
      "          0         1         2         3\n",
      "0  0.839591  0.154390  0.669208  0.690040\n",
      "1  0.000000  0.140344  0.557010  0.376939\n",
      "2  0.744470  0.874460  0.000000  0.660689\n",
      "3  0.918366  0.867535  0.201336  0.217897\n",
      "4  0.862516  0.035496  0.510115  0.801319\n",
      "5  0.371085  0.978713  0.983848  0.000000\n",
      "6  0.471616  0.095175  0.219440  0.000000\n",
      "7  0.795825  0.040714  0.955861  0.000000\n",
      "8  0.369071  0.987432  0.057052  0.000000\n",
      "9  0.468988  0.379328  0.856963  0.000000\n",
      "\n",
      "          0         1         2         3\n",
      "0  0.839591  0.154390  0.669208  0.690040\n",
      "1  0.839591  0.140344  0.557010  0.376939\n",
      "2  0.744470  0.874460  0.557010  0.660689\n",
      "3  0.918366  0.867535  0.201336  0.217897\n",
      "4  0.862516  0.035496  0.510115  0.801319\n",
      "5  0.371085  0.978713  0.983848  0.801319\n",
      "6  0.471616  0.095175  0.219440  0.801319\n",
      "7  0.795825  0.040714  0.955861  0.801319\n",
      "8  0.369071  0.987432  0.057052  0.801319\n",
      "9  0.468988  0.379328  0.856963  0.801319\n",
      "\n",
      "0    0.649059\n",
      "1    0.455359\n",
      "2    0.556759\n",
      "3    0.549377\n",
      "dtype: float64\n",
      "\n"
     ]
    },
    {
     "data": {
      "text/html": [
       "<div>\n",
       "<style scoped>\n",
       "    .dataframe tbody tr th:only-of-type {\n",
       "        vertical-align: middle;\n",
       "    }\n",
       "\n",
       "    .dataframe tbody tr th {\n",
       "        vertical-align: top;\n",
       "    }\n",
       "\n",
       "    .dataframe thead th {\n",
       "        text-align: right;\n",
       "    }\n",
       "</style>\n",
       "<table border=\"1\" class=\"dataframe\">\n",
       "  <thead>\n",
       "    <tr style=\"text-align: right;\">\n",
       "      <th></th>\n",
       "      <th>0</th>\n",
       "      <th>1</th>\n",
       "      <th>2</th>\n",
       "      <th>3</th>\n",
       "    </tr>\n",
       "  </thead>\n",
       "  <tbody>\n",
       "    <tr>\n",
       "      <th>0</th>\n",
       "      <td>0.839591</td>\n",
       "      <td>0.154390</td>\n",
       "      <td>0.669208</td>\n",
       "      <td>0.690040</td>\n",
       "    </tr>\n",
       "    <tr>\n",
       "      <th>1</th>\n",
       "      <td>0.649059</td>\n",
       "      <td>0.140344</td>\n",
       "      <td>0.557010</td>\n",
       "      <td>0.376939</td>\n",
       "    </tr>\n",
       "    <tr>\n",
       "      <th>2</th>\n",
       "      <td>0.744470</td>\n",
       "      <td>0.874460</td>\n",
       "      <td>0.556759</td>\n",
       "      <td>0.660689</td>\n",
       "    </tr>\n",
       "    <tr>\n",
       "      <th>3</th>\n",
       "      <td>0.918366</td>\n",
       "      <td>0.867535</td>\n",
       "      <td>0.201336</td>\n",
       "      <td>0.217897</td>\n",
       "    </tr>\n",
       "    <tr>\n",
       "      <th>4</th>\n",
       "      <td>0.862516</td>\n",
       "      <td>0.035496</td>\n",
       "      <td>0.510115</td>\n",
       "      <td>0.801319</td>\n",
       "    </tr>\n",
       "    <tr>\n",
       "      <th>5</th>\n",
       "      <td>0.371085</td>\n",
       "      <td>0.978713</td>\n",
       "      <td>0.983848</td>\n",
       "      <td>0.549377</td>\n",
       "    </tr>\n",
       "    <tr>\n",
       "      <th>6</th>\n",
       "      <td>0.471616</td>\n",
       "      <td>0.095175</td>\n",
       "      <td>0.219440</td>\n",
       "      <td>0.549377</td>\n",
       "    </tr>\n",
       "    <tr>\n",
       "      <th>7</th>\n",
       "      <td>0.795825</td>\n",
       "      <td>0.040714</td>\n",
       "      <td>0.955861</td>\n",
       "      <td>0.549377</td>\n",
       "    </tr>\n",
       "    <tr>\n",
       "      <th>8</th>\n",
       "      <td>0.369071</td>\n",
       "      <td>0.987432</td>\n",
       "      <td>0.057052</td>\n",
       "      <td>0.549377</td>\n",
       "    </tr>\n",
       "    <tr>\n",
       "      <th>9</th>\n",
       "      <td>0.468988</td>\n",
       "      <td>0.379328</td>\n",
       "      <td>0.856963</td>\n",
       "      <td>0.549377</td>\n",
       "    </tr>\n",
       "  </tbody>\n",
       "</table>\n",
       "</div>"
      ],
      "text/plain": [
       "          0         1         2         3\n",
       "0  0.839591  0.154390  0.669208  0.690040\n",
       "1  0.649059  0.140344  0.557010  0.376939\n",
       "2  0.744470  0.874460  0.556759  0.660689\n",
       "3  0.918366  0.867535  0.201336  0.217897\n",
       "4  0.862516  0.035496  0.510115  0.801319\n",
       "5  0.371085  0.978713  0.983848  0.549377\n",
       "6  0.471616  0.095175  0.219440  0.549377\n",
       "7  0.795825  0.040714  0.955861  0.549377\n",
       "8  0.369071  0.987432  0.057052  0.549377\n",
       "9  0.468988  0.379328  0.856963  0.549377"
      ]
     },
     "execution_count": 34,
     "metadata": {},
     "output_type": "execute_result"
    }
   ],
   "source": [
    "print(df.dropna())\n",
    "print()\n",
    "\n",
    "print(df[[0,1]].dropna())\n",
    "print()\n",
    "\n",
    "print(df.fillna(0))\n",
    "print()\n",
    "\n",
    "print(df.ffill())\n",
    "print()\n",
    "\n",
    "print(df.mean())\n",
    "print()\n",
    "\n",
    "df.fillna(df.mean())"
   ]
  },
  {
   "cell_type": "code",
   "execution_count": 36,
   "id": "e6131843-a05c-4da3-9239-a11dc0620c13",
   "metadata": {},
   "outputs": [
    {
     "name": "stdout",
     "output_type": "stream",
     "text": [
      "           0         1         2         3         4         5\n",
      "0   0.979122  0.796368  0.773777  0.614287  0.951301  0.588667\n",
      "1   0.321282  0.488359  0.314285  0.595773  0.217264  0.349235\n",
      "2   0.666292  0.244948  0.584419  0.406944  0.262799  0.736754\n",
      "3   0.551791  0.396616  0.582309  0.452275  0.898505  0.197522\n",
      "4   0.031374  0.523809  0.293696  0.387219  0.640315  0.417520\n",
      "5   0.259367  0.521840  0.635283  0.700377  0.528487  0.457925\n",
      "6   0.478363  0.544188  0.561541  0.913185  0.657206  0.322729\n",
      "7   0.334798  0.413531  0.102123  0.003466  0.700404  0.307896\n",
      "8   0.686121  0.951448  0.563429  0.723353  0.764961  0.782471\n",
      "9   0.183108  0.349304  0.462208  0.527215  0.028361  0.306196\n",
      "10  0.709382  0.319076  0.936794  0.380277  0.743485  0.265133\n",
      "11  0.168907  0.449330  0.153405  0.857685  0.684693  0.582214\n",
      "12  0.126798  0.643464  0.223215  0.844748  0.433552  0.111247\n",
      "13  0.507911  0.275185  0.064666  0.958898  0.870533  0.136676\n",
      "14  0.351327  0.990601  0.932450  0.877238  0.067554  0.740328\n",
      "           0         1         2         3         4         5\n",
      "0   0.979122  0.796368  0.773777  0.614287  0.951301  0.588667\n",
      "1   0.321282  0.488359  0.314285  0.595773  0.217264  0.349235\n",
      "2        NaN  0.244948  0.584419  0.406944  0.262799  0.736754\n",
      "3   0.551791  0.396616  0.582309  0.452275  0.898505  0.197522\n",
      "4   0.031374  0.523809  0.293696  0.387219  0.640315  0.417520\n",
      "5   0.259367  0.521840       NaN  0.700377  0.528487  0.457925\n",
      "6   0.478363  0.544188       NaN  0.913185  0.657206  0.322729\n",
      "7   0.334798  0.413531       NaN       NaN  0.700404  0.307896\n",
      "8   0.686121  0.951448       NaN       NaN  0.764961  0.782471\n",
      "9   0.183108  0.349304  0.462208       NaN  0.028361  0.306196\n",
      "10  0.709382  0.319076  0.936794  0.380277  0.743485       NaN\n",
      "11  0.168907  0.449330  0.153405  0.857685  0.684693  0.582214\n",
      "12  0.126798  0.643464  0.223215  0.844748  0.433552  0.111247\n",
      "13  0.507911  0.275185  0.064666  0.958898  0.870533  0.136676\n",
      "14  0.351327  0.990601  0.932450  0.877238  0.067554  0.740328\n"
     ]
    }
   ],
   "source": [
    "df2 = pd.DataFrame(np.random.rand(15, 6))\n",
    "print(df2)\n",
    "df2.iloc[2, 0] = NA\n",
    "df2.iloc[5:9, 2] = NA\n",
    "df2.iloc[7:10, 3] = NA\n",
    "df2.iloc[10, 5] = NA\n",
    "print(df2)"
   ]
  },
  {
   "cell_type": "code",
   "execution_count": 38,
   "id": "e868b360-edaf-4ed7-a9fb-676a81e93f85",
   "metadata": {},
   "outputs": [
    {
     "name": "stdout",
     "output_type": "stream",
     "text": [
      "           0         1         2         3         4         5\n",
      "0   0.979122  0.796368  0.773777  0.614287  0.951301  0.588667\n",
      "1   0.321282  0.488359  0.314285  0.595773  0.217264  0.349235\n",
      "3   0.551791  0.396616  0.582309  0.452275  0.898505  0.197522\n",
      "4   0.031374  0.523809  0.293696  0.387219  0.640315  0.417520\n",
      "11  0.168907  0.449330  0.153405  0.857685  0.684693  0.582214\n",
      "12  0.126798  0.643464  0.223215  0.844748  0.433552  0.111247\n",
      "13  0.507911  0.275185  0.064666  0.958898  0.870533  0.136676\n",
      "14  0.351327  0.990601  0.932450  0.877238  0.067554  0.740328\n",
      "           0         1         2         3         4         5\n",
      "0   0.979122  0.796368  0.773777  0.614287  0.951301  0.588667\n",
      "1   0.321282  0.488359  0.314285  0.595773  0.217264  0.349235\n",
      "2   0.000000  0.244948  0.584419  0.406944  0.262799  0.736754\n",
      "3   0.551791  0.396616  0.582309  0.452275  0.898505  0.197522\n",
      "4   0.031374  0.523809  0.293696  0.387219  0.640315  0.417520\n",
      "5   0.259367  0.521840  0.000000  0.700377  0.528487  0.457925\n",
      "6   0.478363  0.544188  0.000000  0.913185  0.657206  0.322729\n",
      "7   0.334798  0.413531  0.000000  0.000000  0.700404  0.307896\n",
      "8   0.686121  0.951448  0.000000  0.000000  0.764961  0.782471\n",
      "9   0.183108  0.349304  0.462208  0.000000  0.028361  0.306196\n",
      "10  0.709382  0.319076  0.936794  0.380277  0.743485  0.000000\n",
      "11  0.168907  0.449330  0.153405  0.857685  0.684693  0.582214\n",
      "12  0.126798  0.643464  0.223215  0.844748  0.433552  0.111247\n",
      "13  0.507911  0.275185  0.064666  0.958898  0.870533  0.136676\n",
      "14  0.351327  0.990601  0.932450  0.877238  0.067554  0.740328\n",
      "\n",
      "0    0.406404\n",
      "1    0.527204\n",
      "2    0.483748\n",
      "3    0.665742\n",
      "4    0.563295\n",
      "5    0.431242\n",
      "dtype: float64\n",
      "\n",
      "           0         1         2         3         4         5\n",
      "0   0.979122  0.796368  0.773777  0.614287  0.951301  0.588667\n",
      "1   0.321282  0.488359  0.314285  0.595773  0.217264  0.349235\n",
      "2   0.406404  0.244948  0.584419  0.406944  0.262799  0.736754\n",
      "3   0.551791  0.396616  0.582309  0.452275  0.898505  0.197522\n",
      "4   0.031374  0.523809  0.293696  0.387219  0.640315  0.417520\n",
      "5   0.259367  0.521840  0.483748  0.700377  0.528487  0.457925\n",
      "6   0.478363  0.544188  0.483748  0.913185  0.657206  0.322729\n",
      "7   0.334798  0.413531  0.483748  0.665742  0.700404  0.307896\n",
      "8   0.686121  0.951448  0.483748  0.665742  0.764961  0.782471\n",
      "9   0.183108  0.349304  0.462208  0.665742  0.028361  0.306196\n",
      "10  0.709382  0.319076  0.936794  0.380277  0.743485  0.431242\n",
      "11  0.168907  0.449330  0.153405  0.857685  0.684693  0.582214\n",
      "12  0.126798  0.643464  0.223215  0.844748  0.433552  0.111247\n",
      "13  0.507911  0.275185  0.064666  0.958898  0.870533  0.136676\n",
      "14  0.351327  0.990601  0.932450  0.877238  0.067554  0.740328\n"
     ]
    }
   ],
   "source": [
    "# 練習問題6-13\n",
    "print(df2.dropna())\n",
    "# 練習問題6-14\n",
    "print(df2.fillna(0))\n",
    "# 練習問題6-15\n",
    "print()\n",
    "print(df2.mean())\n",
    "print()\n",
    "print(df2.fillna(df2.mean()))"
   ]
  },
  {
   "cell_type": "code",
   "execution_count": 69,
   "id": "5d7b84c8-3ec6-4cb7-a78a-5e9f381361b5",
   "metadata": {},
   "outputs": [],
   "source": [
    "import pandas_datareader.data as pdr"
   ]
  },
  {
   "cell_type": "code",
   "execution_count": 75,
   "id": "756b94f7-9eab-4728-a91d-454a5d8d58c3",
   "metadata": {},
   "outputs": [
    {
     "name": "stdout",
     "output_type": "stream",
     "text": [
      "            DEXJPUS\n",
      "DATE               \n",
      "2001-01-02   114.73\n",
      "2001-01-03   114.26\n",
      "2001-01-04   115.47\n",
      "2001-01-05   116.19\n",
      "2001-01-08   115.97\n",
      "            DEXJPUS\n",
      "DATE               \n",
      "2001-01-02   114.73\n",
      "2001-01-03   114.26\n",
      "2001-01-04   115.47\n",
      "2001-01-05   116.19\n",
      "2001-01-08   115.97\n",
      "...             ...\n",
      "2016-12-26      NaN\n",
      "2016-12-27   117.52\n",
      "2016-12-28   117.66\n",
      "2016-12-29   116.32\n",
      "2016-12-30   116.78\n",
      "\n",
      "[4174 rows x 1 columns]\n"
     ]
    }
   ],
   "source": [
    "start_date = \"2001/1/2\"\n",
    "end_date = \"2016/12/30\"\n",
    "\n",
    "data = pdr.DataReader(\"DEXJPUS\", \"fred\", start_date, end_date)\n",
    "print(data.head())\n",
    "print(data)"
   ]
  },
  {
   "cell_type": "code",
   "execution_count": 115,
   "id": "a3a77243-447d-4fd9-b532-e98ee5b393eb",
   "metadata": {},
   "outputs": [
    {
     "data": {
      "text/html": [
       "<div>\n",
       "<style scoped>\n",
       "    .dataframe tbody tr th:only-of-type {\n",
       "        vertical-align: middle;\n",
       "    }\n",
       "\n",
       "    .dataframe tbody tr th {\n",
       "        vertical-align: top;\n",
       "    }\n",
       "\n",
       "    .dataframe thead th {\n",
       "        text-align: right;\n",
       "    }\n",
       "</style>\n",
       "<table border=\"1\" class=\"dataframe\">\n",
       "  <thead>\n",
       "    <tr style=\"text-align: right;\">\n",
       "      <th></th>\n",
       "      <th>DEXJPUS</th>\n",
       "    </tr>\n",
       "    <tr>\n",
       "      <th>DATE</th>\n",
       "      <th></th>\n",
       "    </tr>\n",
       "  </thead>\n",
       "  <tbody>\n",
       "    <tr>\n",
       "      <th>2016-04-01</th>\n",
       "      <td>112.06</td>\n",
       "    </tr>\n",
       "    <tr>\n",
       "      <th>2016-04-04</th>\n",
       "      <td>111.18</td>\n",
       "    </tr>\n",
       "    <tr>\n",
       "      <th>2016-04-05</th>\n",
       "      <td>110.26</td>\n",
       "    </tr>\n",
       "    <tr>\n",
       "      <th>2016-04-06</th>\n",
       "      <td>109.63</td>\n",
       "    </tr>\n",
       "    <tr>\n",
       "      <th>2016-04-07</th>\n",
       "      <td>107.98</td>\n",
       "    </tr>\n",
       "    <tr>\n",
       "      <th>2016-04-08</th>\n",
       "      <td>108.36</td>\n",
       "    </tr>\n",
       "    <tr>\n",
       "      <th>2016-04-11</th>\n",
       "      <td>107.96</td>\n",
       "    </tr>\n",
       "    <tr>\n",
       "      <th>2016-04-12</th>\n",
       "      <td>108.54</td>\n",
       "    </tr>\n",
       "    <tr>\n",
       "      <th>2016-04-13</th>\n",
       "      <td>109.21</td>\n",
       "    </tr>\n",
       "    <tr>\n",
       "      <th>2016-04-14</th>\n",
       "      <td>109.20</td>\n",
       "    </tr>\n",
       "    <tr>\n",
       "      <th>2016-04-15</th>\n",
       "      <td>108.76</td>\n",
       "    </tr>\n",
       "    <tr>\n",
       "      <th>2016-04-18</th>\n",
       "      <td>108.85</td>\n",
       "    </tr>\n",
       "    <tr>\n",
       "      <th>2016-04-19</th>\n",
       "      <td>109.16</td>\n",
       "    </tr>\n",
       "    <tr>\n",
       "      <th>2016-04-20</th>\n",
       "      <td>109.51</td>\n",
       "    </tr>\n",
       "    <tr>\n",
       "      <th>2016-04-21</th>\n",
       "      <td>109.41</td>\n",
       "    </tr>\n",
       "    <tr>\n",
       "      <th>2016-04-22</th>\n",
       "      <td>111.50</td>\n",
       "    </tr>\n",
       "    <tr>\n",
       "      <th>2016-04-25</th>\n",
       "      <td>111.08</td>\n",
       "    </tr>\n",
       "    <tr>\n",
       "      <th>2016-04-26</th>\n",
       "      <td>111.23</td>\n",
       "    </tr>\n",
       "    <tr>\n",
       "      <th>2016-04-27</th>\n",
       "      <td>111.26</td>\n",
       "    </tr>\n",
       "    <tr>\n",
       "      <th>2016-04-28</th>\n",
       "      <td>108.55</td>\n",
       "    </tr>\n",
       "    <tr>\n",
       "      <th>2016-04-29</th>\n",
       "      <td>106.90</td>\n",
       "    </tr>\n",
       "  </tbody>\n",
       "</table>\n",
       "</div>"
      ],
      "text/plain": [
       "            DEXJPUS\n",
       "DATE               \n",
       "2016-04-01   112.06\n",
       "2016-04-04   111.18\n",
       "2016-04-05   110.26\n",
       "2016-04-06   109.63\n",
       "2016-04-07   107.98\n",
       "2016-04-08   108.36\n",
       "2016-04-11   107.96\n",
       "2016-04-12   108.54\n",
       "2016-04-13   109.21\n",
       "2016-04-14   109.20\n",
       "2016-04-15   108.76\n",
       "2016-04-18   108.85\n",
       "2016-04-19   109.16\n",
       "2016-04-20   109.51\n",
       "2016-04-21   109.41\n",
       "2016-04-22   111.50\n",
       "2016-04-25   111.08\n",
       "2016-04-26   111.23\n",
       "2016-04-27   111.26\n",
       "2016-04-28   108.55\n",
       "2016-04-29   106.90"
      ]
     },
     "execution_count": 115,
     "metadata": {},
     "output_type": "execute_result"
    }
   ],
   "source": [
    "data[\"2016-04-01\":\"2016-04-30\"]"
   ]
  },
  {
   "cell_type": "code",
   "execution_count": 119,
   "id": "40b97249-b7e3-43a3-91e9-ff0d07e062f2",
   "metadata": {},
   "outputs": [
    {
     "data": {
      "text/html": [
       "<div>\n",
       "<style scoped>\n",
       "    .dataframe tbody tr th:only-of-type {\n",
       "        vertical-align: middle;\n",
       "    }\n",
       "\n",
       "    .dataframe tbody tr th {\n",
       "        vertical-align: top;\n",
       "    }\n",
       "\n",
       "    .dataframe thead th {\n",
       "        text-align: right;\n",
       "    }\n",
       "</style>\n",
       "<table border=\"1\" class=\"dataframe\">\n",
       "  <thead>\n",
       "    <tr style=\"text-align: right;\">\n",
       "      <th></th>\n",
       "      <th>DEXJPUS</th>\n",
       "    </tr>\n",
       "    <tr>\n",
       "      <th>DATE</th>\n",
       "      <th></th>\n",
       "    </tr>\n",
       "  </thead>\n",
       "  <tbody>\n",
       "    <tr>\n",
       "      <th>2001-01-31</th>\n",
       "      <td>116.39</td>\n",
       "    </tr>\n",
       "    <tr>\n",
       "      <th>2001-02-28</th>\n",
       "      <td>117.28</td>\n",
       "    </tr>\n",
       "    <tr>\n",
       "      <th>2001-03-31</th>\n",
       "      <td>125.54</td>\n",
       "    </tr>\n",
       "    <tr>\n",
       "      <th>2001-04-30</th>\n",
       "      <td>123.57</td>\n",
       "    </tr>\n",
       "    <tr>\n",
       "      <th>2001-05-31</th>\n",
       "      <td>118.88</td>\n",
       "    </tr>\n",
       "  </tbody>\n",
       "</table>\n",
       "</div>"
      ],
      "text/plain": [
       "            DEXJPUS\n",
       "DATE               \n",
       "2001-01-31   116.39\n",
       "2001-02-28   117.28\n",
       "2001-03-31   125.54\n",
       "2001-04-30   123.57\n",
       "2001-05-31   118.88"
      ]
     },
     "execution_count": 119,
     "metadata": {},
     "output_type": "execute_result"
    }
   ],
   "source": [
    "data.resample(\"ME\").last().head()"
   ]
  },
  {
   "cell_type": "code",
   "execution_count": 129,
   "id": "27b42da0-f6fb-48d1-b94f-dc565c8e0544",
   "metadata": {},
   "outputs": [
    {
     "name": "stdout",
     "output_type": "stream",
     "text": [
      "            DEXJPUS\n",
      "DATE               \n",
      "2001-01-02   114.73\n",
      "2001-01-03   114.26\n",
      "2001-01-04   115.47\n",
      "2001-01-05   116.19\n",
      "2001-01-06      NaN\n",
      "\n",
      "            DEXJPUS\n",
      "DATE               \n",
      "2001-01-02   114.73\n",
      "2001-01-03   114.26\n",
      "2001-01-04   115.47\n",
      "2001-01-05   116.19\n",
      "2001-01-06   116.19\n"
     ]
    }
   ],
   "source": [
    "print(data.resample(\"D\").last().head())\n",
    "print()\n",
    "print(data.resample(\"D\").ffill().head())"
   ]
  },
  {
   "cell_type": "code",
   "execution_count": 135,
   "id": "d6579679-b0b3-4c32-998e-f9c49b928987",
   "metadata": {},
   "outputs": [
    {
     "name": "stdout",
     "output_type": "stream",
     "text": [
      "            DEXJPUS\n",
      "DATE               \n",
      "2001-01-02      NaN\n",
      "2001-01-03   114.73\n",
      "2001-01-04   114.26\n",
      "2001-01-05   115.47\n",
      "2001-01-08   116.19\n",
      "             DEXJPUS\n",
      "DATE                \n",
      "2001-01-02       NaN\n",
      "2001-01-03  0.995903\n",
      "2001-01-04  1.010590\n",
      "2001-01-05  1.006235\n",
      "2001-01-08  0.998107\n"
     ]
    }
   ],
   "source": [
    "print(data.shift(1).head())\n",
    "ratio = data / data.shift(1)\n",
    "print(ratio.head())"
   ]
  },
  {
   "cell_type": "code",
   "execution_count": 139,
   "id": "f8d9ffd0-b11b-4a23-9f86-605f081b673c",
   "metadata": {},
   "outputs": [
    {
     "data": {
      "text/html": [
       "<div>\n",
       "<style scoped>\n",
       "    .dataframe tbody tr th:only-of-type {\n",
       "        vertical-align: middle;\n",
       "    }\n",
       "\n",
       "    .dataframe tbody tr th {\n",
       "        vertical-align: top;\n",
       "    }\n",
       "\n",
       "    .dataframe thead th {\n",
       "        text-align: right;\n",
       "    }\n",
       "</style>\n",
       "<table border=\"1\" class=\"dataframe\">\n",
       "  <thead>\n",
       "    <tr style=\"text-align: right;\">\n",
       "      <th></th>\n",
       "      <th>DEXJPUS</th>\n",
       "    </tr>\n",
       "    <tr>\n",
       "      <th>DATE</th>\n",
       "      <th></th>\n",
       "    </tr>\n",
       "  </thead>\n",
       "  <tbody>\n",
       "    <tr>\n",
       "      <th>2001-12-31</th>\n",
       "      <td>121.568040</td>\n",
       "    </tr>\n",
       "    <tr>\n",
       "      <th>2002-12-31</th>\n",
       "      <td>125.220438</td>\n",
       "    </tr>\n",
       "    <tr>\n",
       "      <th>2003-12-31</th>\n",
       "      <td>115.938685</td>\n",
       "    </tr>\n",
       "    <tr>\n",
       "      <th>2004-12-31</th>\n",
       "      <td>108.150830</td>\n",
       "    </tr>\n",
       "    <tr>\n",
       "      <th>2005-12-31</th>\n",
       "      <td>110.106932</td>\n",
       "    </tr>\n",
       "  </tbody>\n",
       "</table>\n",
       "</div>"
      ],
      "text/plain": [
       "               DEXJPUS\n",
       "DATE                  \n",
       "2001-12-31  121.568040\n",
       "2002-12-31  125.220438\n",
       "2003-12-31  115.938685\n",
       "2004-12-31  108.150830\n",
       "2005-12-31  110.106932"
      ]
     },
     "execution_count": 139,
     "metadata": {},
     "output_type": "execute_result"
    }
   ],
   "source": [
    "# 練習問題6-16\n",
    "data.resample(\"YE\").mean().head()"
   ]
  },
  {
   "cell_type": "code",
   "execution_count": 147,
   "id": "6529f9af-3ee0-4234-a673-bafadc51a06c",
   "metadata": {},
   "outputs": [
    {
     "name": "stdout",
     "output_type": "stream",
     "text": [
      "            DEXJPUS\n",
      "DATE               \n",
      "2001-01-02   114.73\n",
      "2001-01-03   114.26\n",
      "2001-01-04   115.47\n",
      "2001-01-05   116.19\n",
      "2001-01-08   115.97\n",
      "               DEXJPUS\n",
      "DATE                  \n",
      "2001-01-02         NaN\n",
      "2001-01-03         NaN\n",
      "2001-01-04  114.820000\n",
      "2001-01-05  115.306667\n",
      "2001-01-08  115.876667\n",
      "\n",
      "             DEXJPUS\n",
      "DATE                \n",
      "2001-01-02       NaN\n",
      "2001-01-03       NaN\n",
      "2001-01-04  0.610000\n",
      "2001-01-05  0.975312\n",
      "2001-01-08  0.368963\n"
     ]
    }
   ],
   "source": [
    "print(data.head())\n",
    "print(data.rolling(3).mean().head())\n",
    "print()\n",
    "print(data.rolling(3).std().head())"
   ]
  },
  {
   "cell_type": "code",
   "execution_count": 153,
   "id": "2048fe94-abdb-4e20-b5b8-40ad459395b4",
   "metadata": {},
   "outputs": [
    {
     "data": {
      "text/html": [
       "<div>\n",
       "<style scoped>\n",
       "    .dataframe tbody tr th:only-of-type {\n",
       "        vertical-align: middle;\n",
       "    }\n",
       "\n",
       "    .dataframe tbody tr th {\n",
       "        vertical-align: top;\n",
       "    }\n",
       "\n",
       "    .dataframe thead th {\n",
       "        text-align: right;\n",
       "    }\n",
       "</style>\n",
       "<table border=\"1\" class=\"dataframe\">\n",
       "  <thead>\n",
       "    <tr style=\"text-align: right;\">\n",
       "      <th></th>\n",
       "      <th>DEXJPUS</th>\n",
       "    </tr>\n",
       "    <tr>\n",
       "      <th>DATE</th>\n",
       "      <th></th>\n",
       "    </tr>\n",
       "  </thead>\n",
       "  <tbody>\n",
       "    <tr>\n",
       "      <th>2001-02-12</th>\n",
       "      <td>116.6910</td>\n",
       "    </tr>\n",
       "    <tr>\n",
       "      <th>2001-02-13</th>\n",
       "      <td>116.6920</td>\n",
       "    </tr>\n",
       "    <tr>\n",
       "      <th>2001-02-14</th>\n",
       "      <td>116.6070</td>\n",
       "    </tr>\n",
       "    <tr>\n",
       "      <th>2001-02-15</th>\n",
       "      <td>116.5015</td>\n",
       "    </tr>\n",
       "    <tr>\n",
       "      <th>2001-02-16</th>\n",
       "      <td>116.4130</td>\n",
       "    </tr>\n",
       "  </tbody>\n",
       "</table>\n",
       "</div>"
      ],
      "text/plain": [
       "             DEXJPUS\n",
       "DATE                \n",
       "2001-02-12  116.6910\n",
       "2001-02-13  116.6920\n",
       "2001-02-14  116.6070\n",
       "2001-02-15  116.5015\n",
       "2001-02-16  116.4130"
      ]
     },
     "execution_count": 153,
     "metadata": {},
     "output_type": "execute_result"
    }
   ],
   "source": [
    "# 練習問題6-17\n",
    "data2 = data.rolling(20).mean().dropna()\n",
    "data2.head()"
   ]
  },
  {
   "cell_type": "code",
   "execution_count": 181,
   "id": "241f8da8-b5b0-4e8e-a27c-45c62116c4e9",
   "metadata": {},
   "outputs": [
    {
     "name": "stdout",
     "output_type": "stream",
     "text": [
      "age  sex\n",
      "15   F      10.052632\n",
      "     M      12.250000\n",
      "16   F      10.203704\n",
      "     M      11.740000\n",
      "17   F      11.103448\n",
      "     M      10.600000\n",
      "18   F      10.883721\n",
      "     M      10.538462\n",
      "19   F      10.642857\n",
      "     M       9.700000\n",
      "20   F      15.000000\n",
      "     M      13.000000\n",
      "21   M      10.000000\n",
      "22   M       6.000000\n",
      "Name: G1, dtype: float64\n",
      "sex          F          M\n",
      "age                      \n",
      "15   10.052632  12.250000\n",
      "16   10.203704  11.740000\n",
      "17   11.103448  10.600000\n",
      "18   10.883721  10.538462\n",
      "19   10.642857   9.700000\n",
      "20   15.000000  13.000000\n",
      "21         NaN  10.000000\n",
      "22         NaN   6.000000\n",
      "\n",
      "sex          F          M\n",
      "age                      \n",
      "15   10.052632  12.250000\n",
      "16   10.203704  11.740000\n",
      "17   11.103448  10.600000\n",
      "18   10.883721  10.538462\n",
      "19   10.642857   9.700000\n",
      "20   15.000000  13.000000\n"
     ]
    }
   ],
   "source": [
    "# 6章総合問題\n",
    "data = student_data_math.groupby([\"age\", \"sex\"])[\"G1\"].mean()\n",
    "print(data)\n",
    "data2 = data.unstack()\n",
    "print(data2)\n",
    "print()\n",
    "print(data2.dropna())"
   ]
  },
  {
   "cell_type": "code",
   "execution_count": 183,
   "id": "3984fb7e-a2b3-4622-8643-c42056d00588",
   "metadata": {},
   "outputs": [],
   "source": [
    "import seaborn as sns\n",
    "sns.set()"
   ]
  },
  {
   "cell_type": "code",
   "execution_count": 193,
   "id": "02b30920-d3bd-4d92-b0c1-2cacc9585f79",
   "metadata": {},
   "outputs": [
    {
     "data": {
      "text/plain": [
       "Text(0, 0.5, 'Score')"
      ]
     },
     "execution_count": 193,
     "metadata": {},
     "output_type": "execute_result"
    },
    {
     "data": {
      "image/png": "[encoded data removed]",
      "text/plain": [
       "<Figure size 640x480 with 1 Axes>"
      ]
     },
     "metadata": {},
     "output_type": "display_data"
    }
   ],
   "source": [
    "x = [1, 2, 3]\n",
    "y = [10, 1, 4]\n",
    "\n",
    "plt.bar(x, y, align=\"center\", width=0.5)\n",
    "plt.xticks(x, [\"Aclass\", \"Bclass\", \"Cclass\"])\n",
    "plt.xlabel(\"Class\")\n",
    "plt.ylabel(\"Score\")"
   ]
  },
  {
   "cell_type": "code",
   "execution_count": 201,
   "id": "077eb715-900c-44bf-afec-5e57ea9feb64",
   "metadata": {},
   "outputs": [
    {
     "data": {
      "text/plain": [
       "Text(0.5, 0, 'Score')"
      ]
     },
     "execution_count": 201,
     "metadata": {},
     "output_type": "execute_result"
    },
    {
     "data": {
      "image/png": "[encoded data removed]",
      "text/plain": [
       "<Figure size 640x480 with 1 Axes>"
      ]
     },
     "metadata": {},
     "output_type": "display_data"
    }
   ],
   "source": [
    "x = [1, 2, 3]\n",
    "y = [10, 1, 4]\n",
    "\n",
    "plt.barh(x, y, align=\"center\")\n",
    "plt.yticks(x, [\"Aclass\", \"Bclass\", \"Cclass\"])\n",
    "plt.ylabel(\"Class\")\n",
    "plt.xlabel(\"Score\")"
   ]
  },
  {
   "cell_type": "code",
   "execution_count": 219,
   "id": "e809d153-2f3a-4026-9209-d1974ab82dc1",
   "metadata": {},
   "outputs": [
    {
     "data": {
      "text/plain": [
       "([<matplotlib.axis.XTick at 0x162eae13950>,\n",
       "  <matplotlib.axis.XTick at 0x162eae10110>,\n",
       "  <matplotlib.axis.XTick at 0x162eae13380>],\n",
       " [Text(0.2, 0, 'ClassA'), Text(1.2, 0, 'ClassB'), Text(2.2, 0, 'ClassC')])"
      ]
     },
     "execution_count": 219,
     "metadata": {},
     "output_type": "execute_result"
    },
    {
     "data": {
      "image/png": "[encoded data removed]",
      "text/plain": [
       "<Figure size 640x480 with 1 Axes>"
      ]
     },
     "metadata": {},
     "output_type": "display_data"
    }
   ],
   "source": [
    "y1 = np.array([30, 10, 40])\n",
    "y2 = np.array([10, 50, 90])\n",
    "\n",
    "x = np.arange(len(y1))\n",
    "w = 0.4\n",
    "\n",
    "plt.bar(x, y1, color=\"blue\", width=w, label=\"math first\", align=\"center\")\n",
    "plt.bar(x+w, y2, color=\"green\", width=w, label=\"math final\", align=\"center\")\n",
    "\n",
    "plt.legend(loc=\"best\")\n",
    "plt.xticks(x+w/2, [\"ClassA\", \"ClassB\", \"ClassC\"])"
   ]
  },
  {
   "cell_type": "code",
   "execution_count": 240,
   "id": "93bcae42-2644-4b5a-80c1-31ac91a822cb",
   "metadata": {},
   "outputs": [
    {
     "data": {
      "text/plain": [
       "<matplotlib.legend.Legend at 0x162efcf6570>"
      ]
     },
     "execution_count": 240,
     "metadata": {},
     "output_type": "execute_result"
    },
    {
     "data": {
      "image/png": "[encoded data removed]",
      "text/plain": [
       "<Figure size 640x480 with 1 Axes>"
      ]
     },
     "metadata": {},
     "output_type": "display_data"
    }
   ],
   "source": [
    "height1 = np.array([100, 200, 300, 400, 500])\n",
    "height2 = np.array([1000, 800, 600, 400, 200])\n",
    "\n",
    "x = np.array([1, 2, 3, 4, 5])\n",
    "\n",
    "p1 = plt.bar(x, height1, color=\"blue\")\n",
    "p2 = plt.bar(x, height2, bottom=height1, color=\"lightblue\")\n",
    "\n",
    "plt.legend((p1[0], p2[0]), (\"Class1\", \"Class2\"))\n"
   ]
  },
  {
   "cell_type": "code",
   "execution_count": 256,
   "id": "3cbd710f-d0f3-4a0c-bbc9-75b46481419a",
   "metadata": {},
   "outputs": [
    {
     "data": {
      "text/plain": [
       "(-1.1998593997207163,\n",
       " 1.1047438740833693,\n",
       " -1.0999843660947275,\n",
       " 1.0999992555283205)"
      ]
     },
     "execution_count": 256,
     "metadata": {},
     "output_type": "execute_result"
    },
    {
     "data": {
      "image/png": "[encoded data removed]",
      "text/plain": [
       "<Figure size 640x480 with 1 Axes>"
      ]
     },
     "metadata": {},
     "output_type": "display_data"
    }
   ],
   "source": [
    "labels = [\"Frogs\", \"Hogs\", \"Dogs\", \"Logs\"]\n",
    "sizes = [15, 30, 45, 10]\n",
    "colors = [\"yellowgreen\", \"gold\", \"lightskyblue\", \"lightcoral\"]\n",
    "explode = (0, 0.1, 0, 0)\n",
    "\n",
    "plt.pie(sizes, explode=explode, labels=labels, colors=colors, autopct=\"%1.1f%%\", shadow=True, startangle=90)\n",
    "\n",
    "plt.axis(\"equal\")"
   ]
  },
  {
   "cell_type": "code",
   "execution_count": 275,
   "id": "07249fae-f541-404d-9181-e808e06ba73d",
   "metadata": {},
   "outputs": [
    {
     "data": {
      "text/plain": [
       "<matplotlib.collections.PathCollection at 0x162f236e2d0>"
      ]
     },
     "execution_count": 275,
     "metadata": {},
     "output_type": "execute_result"
    },
    {
     "data": {
      "image/png": "[encoded data removed]",
      "text/plain": [
       "<Figure size 640x480 with 1 Axes>"
      ]
     },
     "metadata": {},
     "output_type": "display_data"
    }
   ],
   "source": [
    "N = 25\n",
    "\n",
    "x = np.random.rand(N)\n",
    "y = np.random.rand(N)\n",
    "\n",
    "colors = np.random.rand(N)\n",
    "area = 10 * np.pi * (15 * np.random.rand(N)) ** 2\n",
    "\n",
    "plt.scatter(x, y, s=area, c=colors, alpha=0.5)\n"
   ]
  },
  {
   "cell_type": "code",
   "execution_count": 277,
   "id": "9749d3e8-5f85-4e3e-bb06-7ca54840bd99",
   "metadata": {},
   "outputs": [
    {
     "name": "stdout",
     "output_type": "stream",
     "text": [
      "    school sex  age address famsize Pstatus  Medu  Fedu      Mjob      Fjob  \\\n",
      "0       GP   F   18       U     GT3       A     4     4   at_home   teacher   \n",
      "1       GP   F   17       U     GT3       T     1     1   at_home     other   \n",
      "2       GP   F   15       U     LE3       T     1     1   at_home     other   \n",
      "3       GP   F   15       U     GT3       T     4     2    health  services   \n",
      "4       GP   F   16       U     GT3       T     3     3     other     other   \n",
      "..     ...  ..  ...     ...     ...     ...   ...   ...       ...       ...   \n",
      "390     MS   M   20       U     LE3       A     2     2  services  services   \n",
      "391     MS   M   17       U     LE3       T     3     1  services  services   \n",
      "392     MS   M   21       R     GT3       T     1     1     other     other   \n",
      "393     MS   M   18       R     LE3       T     3     2  services     other   \n",
      "394     MS   M   19       U     LE3       T     1     1     other   at_home   \n",
      "\n",
      "     ... freetime goout  Dalc  Walc  health absences  G1  G2  G3 age2  \n",
      "0    ...        3     4     1     1       3        6   5   6   6   36  \n",
      "1    ...        3     3     1     1       3        4   5   5   6   34  \n",
      "2    ...        3     2     2     3       3       10   7   8  10   30  \n",
      "3    ...        2     2     1     1       5        2  15  14  15   30  \n",
      "4    ...        3     2     1     2       5        4   6  10  10   32  \n",
      "..   ...      ...   ...   ...   ...     ...      ...  ..  ..  ..  ...  \n",
      "390  ...        5     4     4     5       4       11   9   9   9   40  \n",
      "391  ...        4     5     3     4       2        3  14  16  16   34  \n",
      "392  ...        5     3     3     3       3        3  10   8   7   42  \n",
      "393  ...        4     1     3     4       5        0  11  12  10   36  \n",
      "394  ...        2     3     3     3       5        5   8   9   9   38  \n",
      "\n",
      "[395 rows x 34 columns]\n"
     ]
    }
   ],
   "source": [
    "# 練習問題7-1\n",
    "print(student_data_math)"
   ]
  },
  {
   "cell_type": "code",
   "execution_count": null,
   "id": "c5695f5b-ee85-49c8-a95f-8e0ce2f4b62c",
   "metadata": {},
   "outputs": [],
   "source": []
  }
 ],
 "metadata": {
  "kernelspec": {
   "display_name": "Python 3 (ipykernel)",
   "language": "python",
   "name": "python3"
  },
  "language_info": {
   "codemirror_mode": {
    "name": "ipython",
    "version": 3
   },
   "file_extension": ".py",
   "mimetype": "text/x-python",
   "name": "python",
   "nbconvert_exporter": "python",
   "pygments_lexer": "ipython3",
   "version": "3.12.4"
  }
 },
 "nbformat": 4,
 "nbformat_minor": 5
}
