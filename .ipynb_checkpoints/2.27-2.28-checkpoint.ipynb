{
 "cells": [
  {
   "cell_type": "code",
   "execution_count": 10,
   "id": "2a8e4281-1fa6-4a1e-9e79-090f88cc6823",
   "metadata": {},
   "outputs": [],
   "source": [
    "import numpy as np\n",
    "import numpy.random as random\n",
    "import scipy as sp\n",
    "import pandas as pd\n",
    "import matplotlib.pyplot as plt\n",
    "import seaborn as sns\n",
    "sns.set()\n"
   ]
  },
  {
   "cell_type": "code",
   "execution_count": 16,
   "id": "dfc65537-4342-4a8a-903f-6c0b2121940c",
   "metadata": {},
   "outputs": [],
   "source": [
    "import shutil\n",
    "shutil.unpack_archive(f\"chap3/dow+jones+index.zip\")"
   ]
  },
  {
   "cell_type": "code",
   "execution_count": null,
   "id": "7dcb0103-3c80-4af9-b9bb-bf1897351734",
   "metadata": {},
   "outputs": [],
   "source": [
    "student_data_math = pd.read_csv(\"chap3/student-mat.csv\", sep=\";\")\n",
    "print(student_data_math.head())"
   ]
  }
 ],
 "metadata": {
  "kernelspec": {
   "display_name": "Python 3 (ipykernel)",
   "language": "python",
   "name": "python3"
  },
  "language_info": {
   "codemirror_mode": {
    "name": "ipython",
    "version": 3
   },
   "file_extension": ".py",
   "mimetype": "text/x-python",
   "name": "python",
   "nbconvert_exporter": "python",
   "pygments_lexer": "ipython3",
   "version": "3.12.4"
  }
 },
 "nbformat": 4,
 "nbformat_minor": 5
}
